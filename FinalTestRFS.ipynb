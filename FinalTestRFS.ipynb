{
 "cells": [
  {
   "cell_type": "code",
   "execution_count": 10,
   "metadata": {
    "collapsed": true
   },
   "outputs": [],
   "source": [
    "import warnings\n",
    "\n",
    "warnings.filterwarnings('ignore')\n",
    "import pickle\n",
    "import pandas as pd\n",
    "import numpy as np\n",
    "\n",
    "# Data Imputation\n",
    "from sklearn.experimental import enable_iterative_imputer\n",
    "from sklearn.impute import IterativeImputer\n",
    "\n",
    "# Feature normalisation\n",
    "from sklearn.preprocessing import StandardScaler"
   ]
  },
  {
   "cell_type": "code",
   "execution_count": 11,
   "outputs": [
    {
     "name": "stdout",
     "output_type": "stream",
     "text": [
      "Requirement already satisfied: xlwt in c:\\users\\hamdi\\appdata\\local\\programs\\python\\python39\\lib\\site-packages (1.3.0)\n"
     ]
    },
    {
     "name": "stderr",
     "output_type": "stream",
     "text": [
      "\n",
      "[notice] A new release of pip available: 22.2.2 -> 22.3.1\n",
      "[notice] To update, run: python.exe -m pip install --upgrade pip\n"
     ]
    }
   ],
   "source": [
    "!pip install xlwt"
   ],
   "metadata": {
    "collapsed": false,
    "pycharm": {
     "name": "#%%\n"
    }
   }
  },
  {
   "cell_type": "markdown",
   "source": [
    "### 1. Read the model using pickle"
   ],
   "metadata": {
    "collapsed": false,
    "pycharm": {
     "name": "#%% md\n"
    }
   }
  },
  {
   "cell_type": "code",
   "execution_count": 12,
   "outputs": [],
   "source": [
    "# Read the RandomForestClassification model using pickle\n",
    "with open(\"RandomForestRegressor.pickle\", \"rb\") as f:\n",
    "    random_forest_regressor = pickle.load(f)"
   ],
   "metadata": {
    "collapsed": false,
    "pycharm": {
     "name": "#%%\n"
    }
   }
  },
  {
   "cell_type": "markdown",
   "source": [
    "### 2. Read the testing dataset"
   ],
   "metadata": {
    "collapsed": false,
    "pycharm": {
     "name": "#%% md\n"
    }
   }
  },
  {
   "cell_type": "code",
   "source": [
    "test_df = pd.read_excel(\"./Dataset/testDatasetExample.xls\", sheet_name=\"Sheet1\")"
   ],
   "metadata": {
    "collapsed": false,
    "pycharm": {
     "name": "#%%\n"
    }
   },
   "execution_count": 13,
   "outputs": []
  },
  {
   "cell_type": "markdown",
   "source": [
    "### 3. Remove row containing at least 3 missing values"
   ],
   "metadata": {
    "collapsed": false,
    "pycharm": {
     "name": "#%% md\n"
    }
   }
  },
  {
   "cell_type": "code",
   "execution_count": 14,
   "outputs": [],
   "source": [
    "missing_values_index = np.where(test_df.isin([999]) == True)\n",
    "missing_values_index = np.array(missing_values_index).tolist()\n",
    "missing_values_index = set(missing_values_index[0])\n",
    "\n",
    "drop_index = []\n",
    "for index in missing_values_index:\n",
    "    missing_values_rows = test_df.iloc[index, :]\n",
    "    missing_values_rows = np.array(missing_values_rows).tolist()\n",
    "    if missing_values_rows.count(999) >= 3:\n",
    "        drop_index.append(index)\n",
    "\n",
    "test_df = test_df.drop(drop_index)"
   ],
   "metadata": {
    "collapsed": false,
    "pycharm": {
     "name": "#%%\n"
    }
   }
  },
  {
   "cell_type": "markdown",
   "source": [
    "### 4. Save the 'ID' column and the features dataframe"
   ],
   "metadata": {
    "collapsed": false,
    "pycharm": {
     "name": "#%% md\n"
    }
   }
  },
  {
   "cell_type": "code",
   "execution_count": 15,
   "outputs": [],
   "source": [
    "# Store the 'ID' column\n",
    "ID_data = test_df['ID']\n",
    "\n",
    "# Drop the 'ID' column from testing dataset\n",
    "test_df.drop('ID', axis=1, inplace=True)"
   ],
   "metadata": {
    "collapsed": false,
    "pycharm": {
     "name": "#%%\n"
    }
   }
  },
  {
   "cell_type": "markdown",
   "source": [
    "### 5. Data imputation using Multivariate Imputer"
   ],
   "metadata": {
    "collapsed": false,
    "pycharm": {
     "name": "#%% md\n"
    }
   }
  },
  {
   "cell_type": "code",
   "execution_count": 16,
   "outputs": [],
   "source": [
    "missing_values_index = np.where(test_df.isin([999]) == True)\n",
    "missing_values_index = np.array(missing_values_index)\n",
    "\n",
    "new_df = test_df.replace(999, np.NaN)\n",
    "column_names = new_df.columns\n",
    "\n",
    "multivariate_imp = IterativeImputer(random_state=42)\n",
    "multi_imputed_array = multivariate_imp.fit_transform(new_df)\n",
    "\n",
    "# loop through all the missing values rows and columns and impute the data with round up function\n",
    "for i in range(len(missing_values_index[0])):\n",
    "    row = missing_values_index[0][i]\n",
    "    col = missing_values_index[1][i]\n",
    "    multi_imputed_array[row][col] = np.round(multi_imputed_array[row][col])\n",
    "\n",
    "# convert to dataFrame\n",
    "multi_imputed_df = pd.DataFrame(multi_imputed_array, columns=column_names)"
   ],
   "metadata": {
    "collapsed": false,
    "pycharm": {
     "name": "#%%\n"
    }
   }
  },
  {
   "cell_type": "markdown",
   "source": [
    "### 6. Feature Selection on the testing dataset"
   ],
   "metadata": {
    "collapsed": false,
    "pycharm": {
     "name": "#%% md\n"
    }
   }
  },
  {
   "cell_type": "code",
   "execution_count": 17,
   "outputs": [],
   "source": [
    "feature_selection_list = ['original_shape_Elongation', 'original_firstorder_Kurtosis', 'original_firstorder_Maximum',\n",
    "                          'original_shape_Maximum2DDiameterRow', 'original_gldm_SmallDependenceHighGrayLevelEmphasis',\n",
    "                          'original_firstorder_Range', 'original_glszm_SizeZoneNonUniformityNormalized',\n",
    "                          'original_shape_Maximum3DDiameter', 'original_glcm_MaximumProbability',\n",
    "                          'original_firstorder_MeanAbsoluteDeviation', 'TumourStage', 'original_glszm_ZoneEntropy',\n",
    "                          'original_firstorder_InterquartileRange', 'original_firstorder_Variance', 'Age',\n",
    "                          'original_firstorder_Skewness', 'original_firstorder_90Percentile',\n",
    "                          'original_shape_MajorAxisLength', 'original_firstorder_RobustMeanAbsoluteDeviation',\n",
    "                          'original_shape_Maximum2DDiameterSlice'\n",
    "                          ]\n",
    "\n",
    "feature_selected_df = multi_imputed_df[feature_selection_list]"
   ],
   "metadata": {
    "collapsed": false,
    "pycharm": {
     "name": "#%%\n"
    }
   }
  },
  {
   "cell_type": "markdown",
   "source": [
    "### 7. Feature Normalization"
   ],
   "metadata": {
    "collapsed": false,
    "pycharm": {
     "name": "#%% md\n"
    }
   }
  },
  {
   "cell_type": "code",
   "execution_count": 18,
   "outputs": [],
   "source": [
    "scaler = StandardScaler()\n",
    "Xs_train = scaler.fit_transform(feature_selected_df)"
   ],
   "metadata": {
    "collapsed": false,
    "pycharm": {
     "name": "#%%\n"
    }
   }
  },
  {
   "cell_type": "markdown",
   "source": [
    "### 8. Predict/Score the testing set"
   ],
   "metadata": {
    "collapsed": false,
    "pycharm": {
     "name": "#%% md\n"
    }
   }
  },
  {
   "cell_type": "code",
   "execution_count": 19,
   "outputs": [],
   "source": [
    "testing_predictions = random_forest_regressor.predict(Xs_train)"
   ],
   "metadata": {
    "collapsed": false,
    "pycharm": {
     "name": "#%%\n"
    }
   }
  },
  {
   "cell_type": "markdown",
   "source": [
    "### 9. Save the 'ID' & 'Prediction' column into a spreadsheet file (.xls)"
   ],
   "metadata": {
    "collapsed": false,
    "pycharm": {
     "name": "#%% md\n"
    }
   }
  },
  {
   "cell_type": "code",
   "execution_count": 20,
   "outputs": [],
   "source": [
    "target_df = pd.DataFrame({'ID': ID_data, 'RelapseFreeSurvival (outcome)': testing_predictions})\n",
    "target_df.to_excel('./Dataset/testDataset.xls', sheet_name='Sheet 1', index=False)"
   ],
   "metadata": {
    "collapsed": false,
    "pycharm": {
     "name": "#%%\n"
    }
   }
  }
 ],
 "metadata": {
  "kernelspec": {
   "display_name": "Python 3",
   "language": "python",
   "name": "python3"
  },
  "language_info": {
   "codemirror_mode": {
    "name": "ipython",
    "version": 2
   },
   "file_extension": ".py",
   "mimetype": "text/x-python",
   "name": "python",
   "nbconvert_exporter": "python",
   "pygments_lexer": "ipython2",
   "version": "2.7.6"
  }
 },
 "nbformat": 4,
 "nbformat_minor": 0
}