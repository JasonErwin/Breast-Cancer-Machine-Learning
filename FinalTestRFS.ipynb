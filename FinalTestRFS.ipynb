{
 "cells": [
  {
   "cell_type": "code",
   "execution_count": 1,
   "metadata": {},
   "outputs": [],
   "source": [
    "import warnings\n",
    "\n",
    "warnings.filterwarnings('ignore')\n",
    "import pickle\n",
    "import pandas as pd\n",
    "import numpy as np\n",
    "\n",
    "# Data Imputation\n",
    "from sklearn.experimental import enable_iterative_imputer\n",
    "from sklearn.impute import IterativeImputer\n",
    "\n",
    "# Feature normalisation\n",
    "from sklearn.preprocessing import StandardScaler"
   ]
  },
  {
   "cell_type": "code",
   "execution_count": 2,
   "metadata": {
    "collapsed": false,
    "jupyter": {
     "outputs_hidden": false
    },
    "pycharm": {
     "name": "#%%\n"
    }
   },
   "outputs": [
    {
     "name": "stdout",
     "output_type": "stream",
     "text": [
      "Requirement already satisfied: xlwt in c:\\users\\jason loo\\anaconda3\\envs\\mle_tf\\lib\\site-packages (1.3.0)\n"
     ]
    }
   ],
   "source": [
    "!pip install xlwt"
   ]
  },
  {
   "cell_type": "markdown",
   "metadata": {
    "pycharm": {
     "name": "#%% md\n"
    }
   },
   "source": [
    "### 1. Read the model using pickle"
   ]
  },
  {
   "cell_type": "code",
   "execution_count": 3,
   "metadata": {
    "collapsed": false,
    "jupyter": {
     "outputs_hidden": false
    },
    "pycharm": {
     "name": "#%%\n"
    }
   },
   "outputs": [],
   "source": [
    "# Read the RandomForestClassification model using pickle\n",
    "with open(\"RandomForestRegressor.pickle\", \"rb\") as f:\n",
    "    random_forest_regressor = pickle.load(f)"
   ]
  },
  {
   "cell_type": "markdown",
   "metadata": {
    "pycharm": {
     "name": "#%% md\n"
    }
   },
   "source": [
    "### 2. Read the testing dataset"
   ]
  },
  {
   "cell_type": "code",
   "execution_count": 4,
   "metadata": {
    "collapsed": false,
    "jupyter": {
     "outputs_hidden": false
    },
    "pycharm": {
     "name": "#%%\n"
    }
   },
   "outputs": [],
   "source": [
    "test_df = pd.read_excel(\"./Dataset/testDatasetExample.xls\", sheet_name=\"Sheet1\")"
   ]
  },
  {
   "cell_type": "markdown",
   "metadata": {
    "pycharm": {
     "name": "#%% md\n"
    }
   },
   "source": [
    "### 3. Remove row containing at least 3 missing values"
   ]
  },
  {
   "cell_type": "code",
   "execution_count": 5,
   "metadata": {
    "collapsed": false,
    "jupyter": {
     "outputs_hidden": false
    },
    "pycharm": {
     "name": "#%%\n"
    }
   },
   "outputs": [],
   "source": [
    "missing_values_index = np.where(test_df.isin([999]) == True)\n",
    "missing_values_index = np.array(missing_values_index).tolist()\n",
    "missing_values_index = set(missing_values_index[0])\n",
    "\n",
    "drop_index = []\n",
    "for index in missing_values_index:\n",
    "    missing_values_rows = test_df.iloc[index, :]\n",
    "    missing_values_rows = np.array(missing_values_rows).tolist()\n",
    "    if missing_values_rows.count(999) >= 3:\n",
    "        drop_index.append(index)\n",
    "\n",
    "test_df = test_df.drop(drop_index)"
   ]
  },
  {
   "cell_type": "markdown",
   "metadata": {
    "pycharm": {
     "name": "#%% md\n"
    }
   },
   "source": [
    "### 4. Save the 'ID' column and the features dataframe"
   ]
  },
  {
   "cell_type": "code",
   "execution_count": 6,
   "metadata": {
    "collapsed": false,
    "jupyter": {
     "outputs_hidden": false
    },
    "pycharm": {
     "name": "#%%\n"
    }
   },
   "outputs": [],
   "source": [
    "# Store the 'ID' column\n",
    "ID_data = test_df['ID']\n",
    "\n",
    "# Drop the 'ID' column from testing dataset\n",
    "test_df.drop('ID', axis=1, inplace=True)"
   ]
  },
  {
   "cell_type": "markdown",
   "metadata": {
    "pycharm": {
     "name": "#%% md\n"
    }
   },
   "source": [
    "### 5. Data imputation using Multivariate Imputer"
   ]
  },
  {
   "cell_type": "code",
   "execution_count": 7,
   "metadata": {
    "collapsed": false,
    "jupyter": {
     "outputs_hidden": false
    },
    "pycharm": {
     "name": "#%%\n"
    }
   },
   "outputs": [],
   "source": [
    "missing_values_index = np.where(test_df.isin([999]) == True)\n",
    "missing_values_index = np.array(missing_values_index)\n",
    "\n",
    "new_df = test_df.replace(999, np.NaN)\n",
    "column_names = new_df.columns\n",
    "\n",
    "multivariate_imp = IterativeImputer(random_state=42)\n",
    "multi_imputed_array = multivariate_imp.fit_transform(new_df)\n",
    "\n",
    "# loop through all the missing values rows and columns and impute the data with round up function\n",
    "for i in range(len(missing_values_index[0])):\n",
    "    row = missing_values_index[0][i]\n",
    "    col = missing_values_index[1][i]\n",
    "    multi_imputed_array[row][col] = np.round(multi_imputed_array[row][col])\n",
    "\n",
    "# convert to dataFrame\n",
    "multi_imputed_df = pd.DataFrame(multi_imputed_array, columns=column_names)"
   ]
  },
  {
   "cell_type": "markdown",
   "metadata": {
    "pycharm": {
     "name": "#%% md\n"
    }
   },
   "source": [
    "### 6. Feature Selection on the testing dataset"
   ]
  },
  {
   "cell_type": "code",
   "execution_count": 8,
   "metadata": {
    "collapsed": false,
    "jupyter": {
     "outputs_hidden": false
    },
    "pycharm": {
     "name": "#%%\n"
    }
   },
   "outputs": [],
   "source": [
    "feature_selection_list = ['original_shape_Elongation', 'original_firstorder_Kurtosis', 'original_firstorder_Maximum',\n",
    "                          'original_shape_Maximum2DDiameterRow', 'original_gldm_SmallDependenceHighGrayLevelEmphasis',\n",
    "                          'original_firstorder_Range', 'original_glszm_SizeZoneNonUniformityNormalized',\n",
    "                          'original_shape_Maximum3DDiameter', 'original_glcm_MaximumProbability',\n",
    "                          'original_firstorder_MeanAbsoluteDeviation', 'TumourStage', 'original_glszm_ZoneEntropy',\n",
    "                          'original_firstorder_InterquartileRange', 'original_firstorder_Variance', 'Age',\n",
    "                          'original_firstorder_Skewness', 'original_firstorder_90Percentile',\n",
    "                          'original_shape_MajorAxisLength', 'original_firstorder_RobustMeanAbsoluteDeviation',\n",
    "                          'original_shape_Maximum2DDiameterSlice'\n",
    "                          ]\n",
    "\n",
    "feature_selected_df = multi_imputed_df[feature_selection_list]"
   ]
  },
  {
   "cell_type": "markdown",
   "metadata": {
    "pycharm": {
     "name": "#%% md\n"
    }
   },
   "source": [
    "### 7. Feature Normalization"
   ]
  },
  {
   "cell_type": "code",
   "execution_count": 9,
   "metadata": {
    "collapsed": false,
    "jupyter": {
     "outputs_hidden": false
    },
    "pycharm": {
     "name": "#%%\n"
    }
   },
   "outputs": [],
   "source": [
    "scaler = StandardScaler()\n",
    "Xs_train = scaler.fit_transform(feature_selected_df)"
   ]
  },
  {
   "cell_type": "markdown",
   "metadata": {
    "pycharm": {
     "name": "#%% md\n"
    }
   },
   "source": [
    "### 8. Predict/Score the testing set"
   ]
  },
  {
   "cell_type": "code",
   "execution_count": 10,
   "metadata": {
    "collapsed": false,
    "jupyter": {
     "outputs_hidden": false
    },
    "pycharm": {
     "name": "#%%\n"
    }
   },
   "outputs": [],
   "source": [
    "testing_predictions = random_forest_regressor.predict(Xs_train)"
   ]
  },
  {
   "cell_type": "markdown",
   "metadata": {
    "pycharm": {
     "name": "#%% md\n"
    }
   },
   "source": [
    "### 9. Save the 'ID' & 'Prediction' column into a spreadsheet file (.xls)"
   ]
  },
  {
   "cell_type": "code",
   "execution_count": 11,
   "metadata": {
    "collapsed": false,
    "jupyter": {
     "outputs_hidden": false
    },
    "pycharm": {
     "name": "#%%\n"
    }
   },
   "outputs": [],
   "source": [
    "target_df = pd.DataFrame({'ID': ID_data, 'RelapseFreeSurvival (outcome)': testing_predictions})\n",
    "target_df.to_excel('./Dataset/RFStestDataset.xls', sheet_name='Sheet 1', index=False)"
   ]
  },
  {
   "cell_type": "code",
   "execution_count": null,
   "metadata": {},
   "outputs": [],
   "source": []
  }
 ],
 "metadata": {
  "kernelspec": {
   "display_name": "Python 3 (ipykernel)",
   "language": "python",
   "name": "python3"
  },
  "language_info": {
   "codemirror_mode": {
    "name": "ipython",
    "version": 3
   },
   "file_extension": ".py",
   "mimetype": "text/x-python",
   "name": "python",
   "nbconvert_exporter": "python",
   "pygments_lexer": "ipython3",
   "version": "3.7.13"
  }
 },
 "nbformat": 4,
 "nbformat_minor": 4
}
