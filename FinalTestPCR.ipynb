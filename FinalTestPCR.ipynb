{
 "cells": [
  {
   "cell_type": "code",
   "execution_count": 1,
   "id": "36ef80ea-15b2-4d47-80be-c560cefafb3c",
   "metadata": {},
   "outputs": [],
   "source": [
    "import warnings\n",
    "warnings.filterwarnings('ignore')\n",
    "import pickle\n",
    "import pandas as pd\n",
    "import numpy as np\n",
    "\n",
    "# Data Imputation\n",
    "from sklearn.experimental import enable_iterative_imputer\n",
    "from sklearn.impute import IterativeImputer\n",
    "\n",
    "# Feature normalisation\n",
    "from sklearn.preprocessing import StandardScaler"
   ]
  },
  {
   "cell_type": "markdown",
   "id": "f624d426-3b6f-40e9-823f-ec8e715981ad",
   "metadata": {},
   "source": [
    "### 1. Read the model using pickle"
   ]
  },
  {
   "cell_type": "code",
   "execution_count": 2,
   "id": "985bbc4b-106d-4361-abf9-15b2cad0fc2e",
   "metadata": {},
   "outputs": [],
   "source": [
    "# Read the RandomForestClassification model using pickle\n",
    "with open(\"RandomForestClassifier.pickle\", \"rb\") as f:\n",
    "    random_forest_classifier = pickle.load(f)"
   ]
  },
  {
   "cell_type": "markdown",
   "id": "2b6355dd-56d6-4a1b-8b3e-c97897478c72",
   "metadata": {},
   "source": [
    "### 2. Read the testing dataset"
   ]
  },
  {
   "cell_type": "code",
   "execution_count": 3,
   "id": "fbbf4e9b-e1c9-42bc-8a3b-2c42e41cd9e6",
   "metadata": {},
   "outputs": [],
   "source": [
    "test_df = pd.read_excel(\"./Dataset/testDatasetExample.xls\", sheet_name=\"Sheet1\")"
   ]
  },
  {
   "cell_type": "markdown",
   "id": "f1a2ad76-2fd2-4998-8764-ce75e2ba5c89",
   "metadata": {},
   "source": [
    "### 3. Remove row containing at least 3 missing values"
   ]
  },
  {
   "cell_type": "code",
   "execution_count": 4,
   "id": "04665024-e621-45b9-9a5c-49037a24ea0e",
   "metadata": {},
   "outputs": [],
   "source": [
    "missing_values_index = np.where(test_df.isin([999]) == True)\n",
    "missing_values_index = np.array(missing_values_index).tolist()\n",
    "missing_values_index = set(missing_values_index[0])\n",
    "\n",
    "list_index = []\n",
    "for index in missing_values_index:\n",
    "    missing_values_rows = test_df.iloc[index,:]\n",
    "    missing_values_rows = np.array(missing_values_rows).tolist()\n",
    "    if missing_values_rows.count(999) >= 3:\n",
    "        list_index.append(index)\n",
    "        \n",
    "test_df = test_df.drop(list_index)"
   ]
  },
  {
   "cell_type": "markdown",
   "id": "b62cbd41-f24f-496d-aa35-8680c47e08a2",
   "metadata": {},
   "source": [
    "### 4. Save the 'ID' column and the features dataframe"
   ]
  },
  {
   "cell_type": "code",
   "execution_count": 5,
   "id": "f060c59a-2769-4015-a4e7-b3e4bdd9b0ea",
   "metadata": {},
   "outputs": [],
   "source": [
    "# Store the 'ID' column\n",
    "ID_data = test_df['ID']\n",
    "\n",
    "# Drop the 'ID' column from testing dataset\n",
    "test_df.drop('ID', axis=1, inplace=True)"
   ]
  },
  {
   "cell_type": "markdown",
   "id": "5d25737d-f619-4a63-a003-e3afc5e7bb16",
   "metadata": {},
   "source": [
    "### 5. Data Imputation using Multivariate imputer"
   ]
  },
  {
   "cell_type": "code",
   "execution_count": 6,
   "id": "972fb0a0-4860-4e7c-98ef-2626059f970d",
   "metadata": {},
   "outputs": [],
   "source": [
    "missing_values_index = np.where(test_df.isin([999]) == True)\n",
    "missing_values_index = np.array(missing_values_index)\n",
    "\n",
    "new_df = test_df.replace(999, np.NaN)\n",
    "column_names = new_df.columns\n",
    "\n",
    "multivariate_imp = IterativeImputer(random_state=42)\n",
    "multi_imputed_array = multivariate_imp.fit_transform(new_df)\n",
    "\n",
    "# loop through all the missing values rows and columns and impute the data with round up function\n",
    "for i in range(len(missing_values_index[0])):\n",
    "    row = missing_values_index[0][i]\n",
    "    col = missing_values_index[1][i]\n",
    "    multi_imputed_array[row][col] = np.round(multi_imputed_array[row][col])\n",
    "\n",
    "# convert to dataFrame\n",
    "multi_imputed_df = pd.DataFrame(multi_imputed_array, columns=column_names)"
   ]
  },
  {
   "cell_type": "markdown",
   "id": "2d369277-465a-4c6c-8301-399eb2eaec9f",
   "metadata": {},
   "source": [
    "### 6. Feature Selection on the Testing dataset"
   ]
  },
  {
   "cell_type": "code",
   "execution_count": 7,
   "id": "dd7b2dd8-acef-4e61-926d-7941c673937b",
   "metadata": {},
   "outputs": [],
   "source": [
    "feature_selection_list = []\n",
    "clinical_features = ['Age', 'ER', 'PgR', 'HER2', 'TrippleNegative', 'ChemoGrade', 'Proliferation', 'HistologyType', 'LNStatus', 'TumourStage']\n",
    "image_based_features = ['original_glcm_Contrast', 'original_glcm_Idn', 'original_glcm_Idmn', 'original_glcm_Autocorrelation', 'original_glcm_Id', 'original_glcm_DifferenceAverage', 'original_ngtdm_Contrast', 'original_glcm_InverseVariance', 'original_glcm_JointEnergy', 'original_glcm_SumAverage']\n",
    "feature_selection_list.extend(clinical_features)\n",
    "feature_selection_list.extend(image_based_features)\n",
    "\n",
    "feature_selected_df = multi_imputed_df[feature_selection_list]"
   ]
  },
  {
   "cell_type": "markdown",
   "id": "deca49f0-240a-4518-96b8-1c935e843437",
   "metadata": {},
   "source": [
    "### 7. Normalised the features"
   ]
  },
  {
   "cell_type": "code",
   "execution_count": 8,
   "id": "0b432d1e-b590-45d9-a18d-8e9872266a88",
   "metadata": {},
   "outputs": [],
   "source": [
    "scaler = StandardScaler()\n",
    "Xs_predict = scaler.fit_transform(feature_selected_df)"
   ]
  },
  {
   "cell_type": "markdown",
   "id": "563e529c-4a86-4869-9cf0-714a9ceae511",
   "metadata": {},
   "source": [
    "### 8. Predict/Score the testing set"
   ]
  },
  {
   "cell_type": "code",
   "execution_count": 9,
   "id": "0371031f-deb5-49b1-a5c9-5139e91b3083",
   "metadata": {},
   "outputs": [],
   "source": [
    "testing_predictions = random_forest_classifier.predict(Xs_predict)"
   ]
  },
  {
   "cell_type": "markdown",
   "id": "777196e1-514c-465a-8685-e1889593345a",
   "metadata": {},
   "source": [
    "### Save the 'ID' & 'Prediction' column into a spreadsheet file (.xls)"
   ]
  },
  {
   "cell_type": "code",
   "execution_count": 10,
   "id": "79e9685f-0198-4b58-a7fd-bb03b75eab6d",
   "metadata": {},
   "outputs": [],
   "source": [
    "target_df = pd.DataFrame({'ID': ID_data, 'pCR (outcome)': testing_predictions})\n",
    "target_df.to_excel('./Dataset/testDataset.xls', sheet_name='Sheet 1', index=False)"
   ]
  },
  {
   "cell_type": "code",
   "execution_count": null,
   "id": "ee2490da-0988-41a4-a645-4a5bbfa4e0a1",
   "metadata": {},
   "outputs": [],
   "source": []
  }
 ],
 "metadata": {
  "kernelspec": {
   "display_name": "Python 3 (ipykernel)",
   "language": "python",
   "name": "python3"
  },
  "language_info": {
   "codemirror_mode": {
    "name": "ipython",
    "version": 3
   },
   "file_extension": ".py",
   "mimetype": "text/x-python",
   "name": "python",
   "nbconvert_exporter": "python",
   "pygments_lexer": "ipython3",
   "version": "3.7.13"
  }
 },
 "nbformat": 4,
 "nbformat_minor": 5
}
