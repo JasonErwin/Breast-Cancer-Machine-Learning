{
 "cells": [
  {
   "cell_type": "code",
   "execution_count": 1,
   "id": "ed906451-2022-4ac7-add8-a74a05a54ce9",
   "metadata": {},
   "outputs": [],
   "source": [
    "import warnings\n",
    "warnings.filterwarnings('ignore')\n",
    "import numpy as np\n",
    "import matplotlib.pyplot as plt\n",
    "import pandas as pd\n",
    "import seaborn as sns\n",
    "\n",
    "# Data imputation\n",
    "from sklearn.experimental import enable_iterative_imputer\n",
    "from sklearn.impute import IterativeImputer\n",
    "\n",
    "# Train test split\n",
    "from sklearn.model_selection import train_test_split\n",
    "\n",
    "# Feature normalisation\n",
    "from sklearn.preprocessing import StandardScaler\n",
    "\n",
    "# Feature selection library\n",
    "from sklearn.feature_selection import SelectKBest\n",
    "from sklearn.feature_selection import chi2\n",
    "\n",
    "# Model hyperparameter tuning\n",
    "from sklearn.model_selection import GridSearchCV \n",
    "\n",
    "# Models\n",
    "from sklearn.svm import SVC\n",
    "from sklearn.linear_model import LogisticRegression\n",
    "from sklearn.ensemble import RandomForestClassifier\n",
    "\n",
    "# Model Evaluation Section -----\n",
    "# Confusion Matrix\n",
    "from sklearn.metrics import confusion_matrix, classification_report\n",
    "from sklearn.metrics import accuracy_score\n",
    "\n",
    "# Cross Validation\n",
    "from sklearn.model_selection import cross_val_score\n",
    "from sklearn.model_selection import KFold, StratifiedKFold\n",
    "\n",
    "# ROC\n",
    "from sklearn.metrics import roc_curve, auc\n",
    "\n",
    "# Save the model\n",
    "import pickle"
   ]
  },
  {
   "cell_type": "markdown",
   "id": "3fa4f1b4-5e18-4272-9cbb-e4d1fa56065f",
   "metadata": {},
   "source": [
    "#### Load the data"
   ]
  },
  {
   "cell_type": "code",
   "execution_count": 2,
   "id": "188197dc-166d-4ba9-b0f4-8f992fcf0320",
   "metadata": {},
   "outputs": [],
   "source": [
    "all_df = pd.read_excel(\"./Dataset/trainDataset.xls\", sheet_name=\"Sheet1\")"
   ]
  },
  {
   "cell_type": "markdown",
   "id": "1bc90535-748a-4d2e-91c9-cc7309215e2b",
   "metadata": {},
   "source": [
    "---\n",
    "## <ins>Data pre-processing & Analysis</ins>"
   ]
  },
  {
   "cell_type": "markdown",
   "id": "f0bfe716-a350-4815-8627-f8c5dbf9f056",
   "metadata": {},
   "source": [
    "#### 1. Drop row containing 3 or more missing value"
   ]
  },
  {
   "cell_type": "code",
   "execution_count": 3,
   "id": "6f1e4cd3-a0ca-4f9f-b503-f146617f6557",
   "metadata": {},
   "outputs": [],
   "source": [
    "# Drop row with 3 missing data or more\n",
    "all_df = all_df.drop([218, 253, 285])"
   ]
  },
  {
   "cell_type": "markdown",
   "id": "4cbcbdef-bfa7-494e-8cf4-159df1c0a9ac",
   "metadata": {},
   "source": [
    "#### 2. Drop the index column"
   ]
  },
  {
   "cell_type": "code",
   "execution_count": 4,
   "id": "3e87043a-00a8-4499-8491-1b1a9d436be1",
   "metadata": {},
   "outputs": [],
   "source": [
    "# Drop 'ID' colunm from the dataframe\n",
    "dataset_ID = all_df['ID']\n",
    "all_df.drop('ID', axis=1, inplace=True)"
   ]
  },
  {
   "cell_type": "markdown",
   "id": "6d76a798-f968-4cd4-aad4-921fff6e54cf",
   "metadata": {},
   "source": [
    "#### 3. Data imputation using Multivariate Imputer"
   ]
  },
  {
   "cell_type": "code",
   "execution_count": 5,
   "id": "1efc48ee-4de7-4e6d-aa2e-e355a2834e6b",
   "metadata": {},
   "outputs": [],
   "source": [
    "missing_values_index = np.where(all_df.isin([999]) == True)\n",
    "missing_values_index = np.array(missing_values_index)\n",
    "\n",
    "new_df = all_df.replace(999, np.NaN)\n",
    "column_names = new_df.columns\n",
    "\n",
    "multivariate_imp = IterativeImputer(random_state=42)\n",
    "multi_imputed_array = multivariate_imp.fit_transform(new_df)\n",
    "\n",
    "# loop through all the missing values rows and columns and impute the data with round up function\n",
    "for i in range(len(missing_values_index[0])):\n",
    "    row = missing_values_index[0][i]\n",
    "    col = missing_values_index[1][i]\n",
    "    multi_imputed_array[row][col] = np.round(multi_imputed_array[row][col])\n",
    "\n",
    "# convert to dataFrame\n",
    "multi_imputed_df = pd.DataFrame(multi_imputed_array, columns=column_names)"
   ]
  },
  {
   "cell_type": "markdown",
   "id": "e8fd19d8-d289-4dd1-a072-0962edb04237",
   "metadata": {},
   "source": [
    "#### 4. pCR (outcome) class visualisation"
   ]
  },
  {
   "cell_type": "code",
   "execution_count": 6,
   "id": "f82c1c32-c231-4520-85fb-cf484afbc718",
   "metadata": {},
   "outputs": [
    {
     "data": {
      "text/plain": [
       "<Figure size 640x480 with 0 Axes>"
      ]
     },
     "execution_count": 6,
     "metadata": {},
     "output_type": "execute_result"
    },
    {
     "data": {
      "image/png": "[encoded data removed]",
      "text/plain": [
       "<Figure size 640x480 with 1 Axes>"
      ]
     },
     "metadata": {},
     "output_type": "display_data"
    },
    {
     "data": {
      "text/plain": [
       "<Figure size 640x480 with 0 Axes>"
      ]
     },
     "metadata": {},
     "output_type": "display_data"
    }
   ],
   "source": [
    "# Countplot for classification\n",
    "sns.countplot(x=\"pCR (outcome)\", data=multi_imputed_df)\n",
    "plt.figure()"
   ]
  },
  {
   "cell_type": "markdown",
   "id": "f617d73a-f039-44e3-87a0-2d099d9ec435",
   "metadata": {},
   "source": [
    "#### 5. Split the data into features and target values"
   ]
  },
  {
   "cell_type": "code",
   "execution_count": 7,
   "id": "e9a6ae57-1d1e-4d24-b4d3-dd9a8393b9e0",
   "metadata": {},
   "outputs": [],
   "source": [
    "# Contains the data of 117 features\n",
    "X = multi_imputed_df.iloc[:, 2:]\n",
    "\n",
    "# Contains the target values: pCR (outcome)\n",
    "classification_target = multi_imputed_df.iloc[:, :1]"
   ]
  },
  {
   "cell_type": "markdown",
   "id": "f37ffcf5-b4c3-46ab-bc53-5a27aae96259",
   "metadata": {},
   "source": [
    "#### 6. Split the clinical feature and image feature for feature selection"
   ]
  },
  {
   "cell_type": "code",
   "execution_count": 8,
   "id": "4d649fa8-fee9-40fb-ba06-5cc5097f97c1",
   "metadata": {},
   "outputs": [],
   "source": [
    "# Stores the clinical features\n",
    "X_clinical = X.iloc[:,:10]\n",
    "\n",
    "# Stores the image features\n",
    "X_image = X.iloc[:,10:]"
   ]
  },
  {
   "cell_type": "markdown",
   "id": "47928651-6786-4b4e-aee5-6b8fd0892a06",
   "metadata": {},
   "source": [
    "---\n",
    "## <ins>Feature Selection Method</ins>"
   ]
  },
  {
   "cell_type": "markdown",
   "id": "7e4b71e3-ad1a-4699-bd20-935e4b8d9041",
   "metadata": {},
   "source": [
    "#### 1. Clinical feature selection using chi2 method"
   ]
  },
  {
   "cell_type": "code",
   "execution_count": 9,
   "id": "938e8692-9db0-4e84-bb3b-59d0e0eb4bd2",
   "metadata": {},
   "outputs": [
    {
     "name": "stdout",
     "output_type": "stream",
     "text": [
      "['Age', 'ER', 'PgR', 'HER2', 'TrippleNegative', 'ChemoGrade', 'Proliferation', 'HistologyType', 'LNStatus', 'TumourStage']\n"
     ]
    }
   ],
   "source": [
    "# Select the top 10 best clinical features\n",
    "clinical_features = SelectKBest(chi2, k=10).fit(X_clinical, classification_target)\n",
    "\n",
    "# Convert the selected clinical feature's header name into a list\n",
    "clinical_features_list = list(clinical_features.get_feature_names_out())\n",
    "print(clinical_features_list)"
   ]
  },
  {
   "cell_type": "code",
   "execution_count": 10,
   "id": "acc67ccf-c0f0-4b86-97c4-f3121a7a069b",
   "metadata": {},
   "outputs": [],
   "source": [
    "Xn_clinical = X_clinical[clinical_features_list]"
   ]
  },
  {
   "cell_type": "markdown",
   "id": "01ab9d43-93ee-40f0-a4a2-7a180e78a3b8",
   "metadata": {},
   "source": [
    "#### 2. Feature selection method on image-based features"
   ]
  },
  {
   "cell_type": "markdown",
   "id": "e781e585-ef40-4f62-8d0e-5a53002a06cc",
   "metadata": {},
   "source": [
    "- Random forest hyperparameter tuning"
   ]
  },
  {
   "cell_type": "code",
   "execution_count": null,
   "id": "edc78a8c-5d4c-4f78-8692-a9db40d7a331",
   "metadata": {
    "scrolled": true,
    "tags": []
   },
   "outputs": [
    {
     "name": "stdout",
     "output_type": "stream",
     "text": [
      "Fitting 5 folds for each of 72 candidates, totalling 360 fits\n",
      "[CV 1/5] END class_weight=balanced, criterion=gini, max_depth=3, max_features=auto, n_estimators=100, random_state=42;, score=0.713 total time=   0.0s\n",
      "[CV 2/5] END class_weight=balanced, criterion=gini, max_depth=3, max_features=auto, n_estimators=100, random_state=42;, score=0.675 total time=   0.0s\n",
      "[CV 3/5] END class_weight=balanced, criterion=gini, max_depth=3, max_features=auto, n_estimators=100, random_state=42;, score=0.620 total time=   0.0s\n",
      "[CV 4/5] END class_weight=balanced, criterion=gini, max_depth=3, max_features=auto, n_estimators=100, random_state=42;, score=0.696 total time=   0.0s\n",
      "[CV 5/5] END class_weight=balanced, criterion=gini, max_depth=3, max_features=auto, n_estimators=100, random_state=42;, score=0.608 total time=   0.0s\n",
      "[CV 1/5] END class_weight=balanced, criterion=gini, max_depth=3, max_features=auto, n_estimators=200, random_state=42;, score=0.725 total time=   0.1s\n",
      "[CV 2/5] END class_weight=balanced, criterion=gini, max_depth=3, max_features=auto, n_estimators=200, random_state=42;, score=0.662 total time=   0.1s\n",
      "[CV 3/5] END class_weight=balanced, criterion=gini, max_depth=3, max_features=auto, n_estimators=200, random_state=42;, score=0.646 total time=   0.1s\n",
      "[CV 4/5] END class_weight=balanced, criterion=gini, max_depth=3, max_features=auto, n_estimators=200, random_state=42;, score=0.658 total time=   0.1s\n",
      "[CV 5/5] END class_weight=balanced, criterion=gini, max_depth=3, max_features=auto, n_estimators=200, random_state=42;, score=0.595 total time=   0.2s\n",
      "[CV 1/5] END class_weight=balanced, criterion=gini, max_depth=3, max_features=auto, n_estimators=300, random_state=42;, score=0.725 total time=   0.3s\n",
      "[CV 2/5] END class_weight=balanced, criterion=gini, max_depth=3, max_features=auto, n_estimators=300, random_state=42;, score=0.700 total time=   0.2s\n",
      "[CV 3/5] END class_weight=balanced, criterion=gini, max_depth=3, max_features=auto, n_estimators=300, random_state=42;, score=0.633 total time=   0.3s\n",
      "[CV 4/5] END class_weight=balanced, criterion=gini, max_depth=3, max_features=auto, n_estimators=300, random_state=42;, score=0.658 total time=   0.3s\n",
      "[CV 5/5] END class_weight=balanced, criterion=gini, max_depth=3, max_features=auto, n_estimators=300, random_state=42;, score=0.570 total time=   0.3s\n",
      "[CV 1/5] END class_weight=balanced, criterion=gini, max_depth=3, max_features=sqrt, n_estimators=100, random_state=42;, score=0.713 total time=   0.0s\n",
      "[CV 2/5] END class_weight=balanced, criterion=gini, max_depth=3, max_features=sqrt, n_estimators=100, random_state=42;, score=0.675 total time=   0.1s\n",
      "[CV 3/5] END class_weight=balanced, criterion=gini, max_depth=3, max_features=sqrt, n_estimators=100, random_state=42;, score=0.620 total time=   0.0s\n",
      "[CV 4/5] END class_weight=balanced, criterion=gini, max_depth=3, max_features=sqrt, n_estimators=100, random_state=42;, score=0.696 total time=   0.0s\n",
      "[CV 5/5] END class_weight=balanced, criterion=gini, max_depth=3, max_features=sqrt, n_estimators=100, random_state=42;, score=0.608 total time=   0.0s\n",
      "[CV 1/5] END class_weight=balanced, criterion=gini, max_depth=3, max_features=sqrt, n_estimators=200, random_state=42;, score=0.725 total time=   0.1s\n",
      "[CV 2/5] END class_weight=balanced, criterion=gini, max_depth=3, max_features=sqrt, n_estimators=200, random_state=42;, score=0.662 total time=   0.1s\n",
      "[CV 3/5] END class_weight=balanced, criterion=gini, max_depth=3, max_features=sqrt, n_estimators=200, random_state=42;, score=0.646 total time=   0.1s\n",
      "[CV 4/5] END class_weight=balanced, criterion=gini, max_depth=3, max_features=sqrt, n_estimators=200, random_state=42;, score=0.658 total time=   0.1s\n",
      "[CV 5/5] END class_weight=balanced, criterion=gini, max_depth=3, max_features=sqrt, n_estimators=200, random_state=42;, score=0.595 total time=   0.2s\n",
      "[CV 1/5] END class_weight=balanced, criterion=gini, max_depth=3, max_features=sqrt, n_estimators=300, random_state=42;, score=0.725 total time=   0.3s\n",
      "[CV 2/5] END class_weight=balanced, criterion=gini, max_depth=3, max_features=sqrt, n_estimators=300, random_state=42;, score=0.700 total time=   0.3s\n",
      "[CV 3/5] END class_weight=balanced, criterion=gini, max_depth=3, max_features=sqrt, n_estimators=300, random_state=42;, score=0.633 total time=   0.3s\n",
      "[CV 4/5] END class_weight=balanced, criterion=gini, max_depth=3, max_features=sqrt, n_estimators=300, random_state=42;, score=0.658 total time=   0.3s\n",
      "[CV 5/5] END class_weight=balanced, criterion=gini, max_depth=3, max_features=sqrt, n_estimators=300, random_state=42;, score=0.570 total time=   0.3s\n",
      "[CV 1/5] END class_weight=balanced, criterion=gini, max_depth=3, max_features=log2, n_estimators=100, random_state=42;, score=0.713 total time=   0.0s\n",
      "[CV 2/5] END class_weight=balanced, criterion=gini, max_depth=3, max_features=log2, n_estimators=100, random_state=42;, score=0.675 total time=   0.0s\n",
      "[CV 3/5] END class_weight=balanced, criterion=gini, max_depth=3, max_features=log2, n_estimators=100, random_state=42;, score=0.646 total time=   0.0s\n",
      "[CV 4/5] END class_weight=balanced, criterion=gini, max_depth=3, max_features=log2, n_estimators=100, random_state=42;, score=0.696 total time=   0.1s\n",
      "[CV 5/5] END class_weight=balanced, criterion=gini, max_depth=3, max_features=log2, n_estimators=100, random_state=42;, score=0.570 total time=   0.0s\n",
      "[CV 1/5] END class_weight=balanced, criterion=gini, max_depth=3, max_features=log2, n_estimators=200, random_state=42;, score=0.725 total time=   0.1s\n",
      "[CV 2/5] END class_weight=balanced, criterion=gini, max_depth=3, max_features=log2, n_estimators=200, random_state=42;, score=0.688 total time=   0.1s\n",
      "[CV 3/5] END class_weight=balanced, criterion=gini, max_depth=3, max_features=log2, n_estimators=200, random_state=42;, score=0.633 total time=   0.1s\n",
      "[CV 4/5] END class_weight=balanced, criterion=gini, max_depth=3, max_features=log2, n_estimators=200, random_state=42;, score=0.696 total time=   0.1s\n",
      "[CV 5/5] END class_weight=balanced, criterion=gini, max_depth=3, max_features=log2, n_estimators=200, random_state=42;, score=0.557 total time=   0.1s\n",
      "[CV 1/5] END class_weight=balanced, criterion=gini, max_depth=3, max_features=log2, n_estimators=300, random_state=42;, score=0.713 total time=   0.2s\n",
      "[CV 2/5] END class_weight=balanced, criterion=gini, max_depth=3, max_features=log2, n_estimators=300, random_state=42;, score=0.713 total time=   0.2s\n",
      "[CV 3/5] END class_weight=balanced, criterion=gini, max_depth=3, max_features=log2, n_estimators=300, random_state=42;, score=0.620 total time=   0.3s\n",
      "[CV 4/5] END class_weight=balanced, criterion=gini, max_depth=3, max_features=log2, n_estimators=300, random_state=42;, score=0.684 total time=   0.2s\n",
      "[CV 5/5] END class_weight=balanced, criterion=gini, max_depth=3, max_features=log2, n_estimators=300, random_state=42;, score=0.570 total time=   0.2s\n",
      "[CV 1/5] END class_weight=balanced, criterion=gini, max_depth=5, max_features=auto, n_estimators=100, random_state=42;, score=0.750 total time=   0.1s\n",
      "[CV 2/5] END class_weight=balanced, criterion=gini, max_depth=5, max_features=auto, n_estimators=100, random_state=42;, score=0.713 total time=   0.0s\n",
      "[CV 3/5] END class_weight=balanced, criterion=gini, max_depth=5, max_features=auto, n_estimators=100, random_state=42;, score=0.709 total time=   0.0s\n",
      "[CV 4/5] END class_weight=balanced, criterion=gini, max_depth=5, max_features=auto, n_estimators=100, random_state=42;, score=0.734 total time=   0.0s\n",
      "[CV 5/5] END class_weight=balanced, criterion=gini, max_depth=5, max_features=auto, n_estimators=100, random_state=42;, score=0.671 total time=   0.0s\n",
      "[CV 1/5] END class_weight=balanced, criterion=gini, max_depth=5, max_features=auto, n_estimators=200, random_state=42;, score=0.775 total time=   0.2s\n",
      "[CV 2/5] END class_weight=balanced, criterion=gini, max_depth=5, max_features=auto, n_estimators=200, random_state=42;, score=0.725 total time=   0.2s\n",
      "[CV 3/5] END class_weight=balanced, criterion=gini, max_depth=5, max_features=auto, n_estimators=200, random_state=42;, score=0.696 total time=   0.2s\n",
      "[CV 4/5] END class_weight=balanced, criterion=gini, max_depth=5, max_features=auto, n_estimators=200, random_state=42;, score=0.747 total time=   0.2s\n",
      "[CV 5/5] END class_weight=balanced, criterion=gini, max_depth=5, max_features=auto, n_estimators=200, random_state=42;, score=0.646 total time=   0.2s\n",
      "[CV 1/5] END class_weight=balanced, criterion=gini, max_depth=5, max_features=auto, n_estimators=300, random_state=42;, score=0.775 total time=   0.3s\n",
      "[CV 2/5] END class_weight=balanced, criterion=gini, max_depth=5, max_features=auto, n_estimators=300, random_state=42;, score=0.725 total time=   0.4s\n",
      "[CV 3/5] END class_weight=balanced, criterion=gini, max_depth=5, max_features=auto, n_estimators=300, random_state=42;, score=0.696 total time=   0.4s\n",
      "[CV 4/5] END class_weight=balanced, criterion=gini, max_depth=5, max_features=auto, n_estimators=300, random_state=42;, score=0.734 total time=   0.3s\n",
      "[CV 5/5] END class_weight=balanced, criterion=gini, max_depth=5, max_features=auto, n_estimators=300, random_state=42;, score=0.671 total time=   0.3s\n",
      "[CV 1/5] END class_weight=balanced, criterion=gini, max_depth=5, max_features=sqrt, n_estimators=100, random_state=42;, score=0.750 total time=   0.0s\n",
      "[CV 2/5] END class_weight=balanced, criterion=gini, max_depth=5, max_features=sqrt, n_estimators=100, random_state=42;, score=0.713 total time=   0.0s\n",
      "[CV 3/5] END class_weight=balanced, criterion=gini, max_depth=5, max_features=sqrt, n_estimators=100, random_state=42;, score=0.709 total time=   0.0s\n",
      "[CV 4/5] END class_weight=balanced, criterion=gini, max_depth=5, max_features=sqrt, n_estimators=100, random_state=42;, score=0.734 total time=   0.0s\n",
      "[CV 5/5] END class_weight=balanced, criterion=gini, max_depth=5, max_features=sqrt, n_estimators=100, random_state=42;, score=0.671 total time=   0.1s\n",
      "[CV 1/5] END class_weight=balanced, criterion=gini, max_depth=5, max_features=sqrt, n_estimators=200, random_state=42;, score=0.775 total time=   0.3s\n",
      "[CV 2/5] END class_weight=balanced, criterion=gini, max_depth=5, max_features=sqrt, n_estimators=200, random_state=42;, score=0.725 total time=   0.2s\n",
      "[CV 3/5] END class_weight=balanced, criterion=gini, max_depth=5, max_features=sqrt, n_estimators=200, random_state=42;, score=0.696 total time=   0.2s\n",
      "[CV 4/5] END class_weight=balanced, criterion=gini, max_depth=5, max_features=sqrt, n_estimators=200, random_state=42;, score=0.747 total time=   0.2s\n",
      "[CV 5/5] END class_weight=balanced, criterion=gini, max_depth=5, max_features=sqrt, n_estimators=200, random_state=42;, score=0.646 total time=   0.2s\n",
      "[CV 1/5] END class_weight=balanced, criterion=gini, max_depth=5, max_features=sqrt, n_estimators=300, random_state=42;, score=0.775 total time=   0.4s\n",
      "[CV 2/5] END class_weight=balanced, criterion=gini, max_depth=5, max_features=sqrt, n_estimators=300, random_state=42;, score=0.725 total time=   0.4s\n",
      "[CV 3/5] END class_weight=balanced, criterion=gini, max_depth=5, max_features=sqrt, n_estimators=300, random_state=42;, score=0.696 total time=   0.3s\n",
      "[CV 4/5] END class_weight=balanced, criterion=gini, max_depth=5, max_features=sqrt, n_estimators=300, random_state=42;, score=0.734 total time=   0.3s\n",
      "[CV 5/5] END class_weight=balanced, criterion=gini, max_depth=5, max_features=sqrt, n_estimators=300, random_state=42;, score=0.671 total time=   0.4s\n",
      "[CV 1/5] END class_weight=balanced, criterion=gini, max_depth=5, max_features=log2, n_estimators=100, random_state=42;, score=0.725 total time=   0.0s\n",
      "[CV 2/5] END class_weight=balanced, criterion=gini, max_depth=5, max_features=log2, n_estimators=100, random_state=42;, score=0.725 total time=   0.0s\n",
      "[CV 3/5] END class_weight=balanced, criterion=gini, max_depth=5, max_features=log2, n_estimators=100, random_state=42;, score=0.696 total time=   0.0s\n",
      "[CV 4/5] END class_weight=balanced, criterion=gini, max_depth=5, max_features=log2, n_estimators=100, random_state=42;, score=0.722 total time=   0.0s\n",
      "[CV 5/5] END class_weight=balanced, criterion=gini, max_depth=5, max_features=log2, n_estimators=100, random_state=42;, score=0.684 total time=   0.0s\n",
      "[CV 1/5] END class_weight=balanced, criterion=gini, max_depth=5, max_features=log2, n_estimators=200, random_state=42;, score=0.762 total time=   0.2s\n",
      "[CV 2/5] END class_weight=balanced, criterion=gini, max_depth=5, max_features=log2, n_estimators=200, random_state=42;, score=0.738 total time=   0.2s\n",
      "[CV 3/5] END class_weight=balanced, criterion=gini, max_depth=5, max_features=log2, n_estimators=200, random_state=42;, score=0.709 total time=   0.2s\n",
      "[CV 4/5] END class_weight=balanced, criterion=gini, max_depth=5, max_features=log2, n_estimators=200, random_state=42;, score=0.747 total time=   0.1s\n",
      "[CV 5/5] END class_weight=balanced, criterion=gini, max_depth=5, max_features=log2, n_estimators=200, random_state=42;, score=0.671 total time=   0.1s\n",
      "[CV 1/5] END class_weight=balanced, criterion=gini, max_depth=5, max_features=log2, n_estimators=300, random_state=42;, score=0.750 total time=   0.3s\n",
      "[CV 2/5] END class_weight=balanced, criterion=gini, max_depth=5, max_features=log2, n_estimators=300, random_state=42;, score=0.738 total time=   0.3s\n",
      "[CV 3/5] END class_weight=balanced, criterion=gini, max_depth=5, max_features=log2, n_estimators=300, random_state=42;, score=0.696 total time=   0.3s\n",
      "[CV 4/5] END class_weight=balanced, criterion=gini, max_depth=5, max_features=log2, n_estimators=300, random_state=42;, score=0.759 total time=   0.3s\n",
      "[CV 5/5] END class_weight=balanced, criterion=gini, max_depth=5, max_features=log2, n_estimators=300, random_state=42;, score=0.671 total time=   0.3s\n",
      "[CV 1/5] END class_weight=balanced, criterion=gini, max_depth=7, max_features=auto, n_estimators=100, random_state=42;, score=0.738 total time=   0.1s\n",
      "[CV 2/5] END class_weight=balanced, criterion=gini, max_depth=7, max_features=auto, n_estimators=100, random_state=42;, score=0.750 total time=   0.1s\n",
      "[CV 3/5] END class_weight=balanced, criterion=gini, max_depth=7, max_features=auto, n_estimators=100, random_state=42;, score=0.734 total time=   0.0s\n",
      "[CV 4/5] END class_weight=balanced, criterion=gini, max_depth=7, max_features=auto, n_estimators=100, random_state=42;, score=0.734 total time=   0.0s\n",
      "[CV 5/5] END class_weight=balanced, criterion=gini, max_depth=7, max_features=auto, n_estimators=100, random_state=42;, score=0.734 total time=   0.0s\n",
      "[CV 1/5] END class_weight=balanced, criterion=gini, max_depth=7, max_features=auto, n_estimators=200, random_state=42;, score=0.750 total time=   0.2s\n",
      "[CV 2/5] END class_weight=balanced, criterion=gini, max_depth=7, max_features=auto, n_estimators=200, random_state=42;, score=0.762 total time=   0.2s\n",
      "[CV 3/5] END class_weight=balanced, criterion=gini, max_depth=7, max_features=auto, n_estimators=200, random_state=42;, score=0.722 total time=   0.2s\n",
      "[CV 4/5] END class_weight=balanced, criterion=gini, max_depth=7, max_features=auto, n_estimators=200, random_state=42;, score=0.747 total time=   0.2s\n",
      "[CV 5/5] END class_weight=balanced, criterion=gini, max_depth=7, max_features=auto, n_estimators=200, random_state=42;, score=0.722 total time=   0.2s\n",
      "[CV 1/5] END class_weight=balanced, criterion=gini, max_depth=7, max_features=auto, n_estimators=300, random_state=42;, score=0.762 total time=   0.3s\n",
      "[CV 2/5] END class_weight=balanced, criterion=gini, max_depth=7, max_features=auto, n_estimators=300, random_state=42;, score=0.762 total time=   0.3s\n",
      "[CV 3/5] END class_weight=balanced, criterion=gini, max_depth=7, max_features=auto, n_estimators=300, random_state=42;, score=0.722 total time=   0.4s\n",
      "[CV 4/5] END class_weight=balanced, criterion=gini, max_depth=7, max_features=auto, n_estimators=300, random_state=42;, score=0.759 total time=   0.3s\n",
      "[CV 5/5] END class_weight=balanced, criterion=gini, max_depth=7, max_features=auto, n_estimators=300, random_state=42;, score=0.759 total time=   0.3s\n",
      "[CV 1/5] END class_weight=balanced, criterion=gini, max_depth=7, max_features=sqrt, n_estimators=100, random_state=42;, score=0.738 total time=   0.0s\n",
      "[CV 2/5] END class_weight=balanced, criterion=gini, max_depth=7, max_features=sqrt, n_estimators=100, random_state=42;, score=0.750 total time=   0.0s\n",
      "[CV 3/5] END class_weight=balanced, criterion=gini, max_depth=7, max_features=sqrt, n_estimators=100, random_state=42;, score=0.734 total time=   0.0s\n",
      "[CV 4/5] END class_weight=balanced, criterion=gini, max_depth=7, max_features=sqrt, n_estimators=100, random_state=42;, score=0.734 total time=   0.1s\n",
      "[CV 5/5] END class_weight=balanced, criterion=gini, max_depth=7, max_features=sqrt, n_estimators=100, random_state=42;, score=0.734 total time=   0.0s\n",
      "[CV 1/5] END class_weight=balanced, criterion=gini, max_depth=7, max_features=sqrt, n_estimators=200, random_state=42;, score=0.750 total time=   0.2s\n",
      "[CV 2/5] END class_weight=balanced, criterion=gini, max_depth=7, max_features=sqrt, n_estimators=200, random_state=42;, score=0.762 total time=   0.2s\n",
      "[CV 3/5] END class_weight=balanced, criterion=gini, max_depth=7, max_features=sqrt, n_estimators=200, random_state=42;, score=0.722 total time=   0.2s\n",
      "[CV 4/5] END class_weight=balanced, criterion=gini, max_depth=7, max_features=sqrt, n_estimators=200, random_state=42;, score=0.747 total time=   0.3s\n",
      "[CV 5/5] END class_weight=balanced, criterion=gini, max_depth=7, max_features=sqrt, n_estimators=200, random_state=42;, score=0.722 total time=   0.2s\n",
      "[CV 1/5] END class_weight=balanced, criterion=gini, max_depth=7, max_features=sqrt, n_estimators=300, random_state=42;, score=0.762 total time=   0.3s\n",
      "[CV 2/5] END class_weight=balanced, criterion=gini, max_depth=7, max_features=sqrt, n_estimators=300, random_state=42;, score=0.762 total time=   0.4s\n",
      "[CV 3/5] END class_weight=balanced, criterion=gini, max_depth=7, max_features=sqrt, n_estimators=300, random_state=42;, score=0.722 total time=   0.3s\n",
      "[CV 4/5] END class_weight=balanced, criterion=gini, max_depth=7, max_features=sqrt, n_estimators=300, random_state=42;, score=0.759 total time=   0.3s\n",
      "[CV 5/5] END class_weight=balanced, criterion=gini, max_depth=7, max_features=sqrt, n_estimators=300, random_state=42;, score=0.759 total time=   0.3s\n",
      "[CV 1/5] END class_weight=balanced, criterion=gini, max_depth=7, max_features=log2, n_estimators=100, random_state=42;, score=0.738 total time=   0.0s\n",
      "[CV 2/5] END class_weight=balanced, criterion=gini, max_depth=7, max_features=log2, n_estimators=100, random_state=42;, score=0.762 total time=   0.0s\n",
      "[CV 3/5] END class_weight=balanced, criterion=gini, max_depth=7, max_features=log2, n_estimators=100, random_state=42;, score=0.734 total time=   0.0s\n",
      "[CV 4/5] END class_weight=balanced, criterion=gini, max_depth=7, max_features=log2, n_estimators=100, random_state=42;, score=0.772 total time=   0.0s\n",
      "[CV 5/5] END class_weight=balanced, criterion=gini, max_depth=7, max_features=log2, n_estimators=100, random_state=42;, score=0.722 total time=   0.0s\n",
      "[CV 1/5] END class_weight=balanced, criterion=gini, max_depth=7, max_features=log2, n_estimators=200, random_state=42;, score=0.762 total time=   0.2s\n",
      "[CV 2/5] END class_weight=balanced, criterion=gini, max_depth=7, max_features=log2, n_estimators=200, random_state=42;, score=0.762 total time=   0.1s\n",
      "[CV 3/5] END class_weight=balanced, criterion=gini, max_depth=7, max_features=log2, n_estimators=200, random_state=42;, score=0.734 total time=   0.1s\n",
      "[CV 4/5] END class_weight=balanced, criterion=gini, max_depth=7, max_features=log2, n_estimators=200, random_state=42;, score=0.772 total time=   0.1s\n",
      "[CV 5/5] END class_weight=balanced, criterion=gini, max_depth=7, max_features=log2, n_estimators=200, random_state=42;, score=0.734 total time=   0.1s\n",
      "[CV 1/5] END class_weight=balanced, criterion=gini, max_depth=7, max_features=log2, n_estimators=300, random_state=42;, score=0.750 total time=   0.2s\n",
      "[CV 2/5] END class_weight=balanced, criterion=gini, max_depth=7, max_features=log2, n_estimators=300, random_state=42;, score=0.750 total time=   0.3s\n",
      "[CV 3/5] END class_weight=balanced, criterion=gini, max_depth=7, max_features=log2, n_estimators=300, random_state=42;, score=0.747 total time=   0.3s\n",
      "[CV 4/5] END class_weight=balanced, criterion=gini, max_depth=7, max_features=log2, n_estimators=300, random_state=42;, score=0.785 total time=   0.2s\n",
      "[CV 5/5] END class_weight=balanced, criterion=gini, max_depth=7, max_features=log2, n_estimators=300, random_state=42;, score=0.747 total time=   0.2s\n",
      "[CV 1/5] END class_weight=balanced, criterion=gini, max_depth=9, max_features=auto, n_estimators=100, random_state=42;, score=0.762 total time=   0.0s\n",
      "[CV 2/5] END class_weight=balanced, criterion=gini, max_depth=9, max_features=auto, n_estimators=100, random_state=42;, score=0.762 total time=   0.0s\n",
      "[CV 3/5] END class_weight=balanced, criterion=gini, max_depth=9, max_features=auto, n_estimators=100, random_state=42;, score=0.747 total time=   0.1s\n",
      "[CV 4/5] END class_weight=balanced, criterion=gini, max_depth=9, max_features=auto, n_estimators=100, random_state=42;, score=0.747 total time=   0.1s\n",
      "[CV 5/5] END class_weight=balanced, criterion=gini, max_depth=9, max_features=auto, n_estimators=100, random_state=42;, score=0.734 total time=   0.1s\n",
      "[CV 1/5] END class_weight=balanced, criterion=gini, max_depth=9, max_features=auto, n_estimators=200, random_state=42;, score=0.762 total time=   0.2s\n",
      "[CV 2/5] END class_weight=balanced, criterion=gini, max_depth=9, max_features=auto, n_estimators=200, random_state=42;, score=0.762 total time=   0.2s\n",
      "[CV 3/5] END class_weight=balanced, criterion=gini, max_depth=9, max_features=auto, n_estimators=200, random_state=42;, score=0.759 total time=   0.2s\n",
      "[CV 4/5] END class_weight=balanced, criterion=gini, max_depth=9, max_features=auto, n_estimators=200, random_state=42;, score=0.759 total time=   0.2s\n",
      "[CV 5/5] END class_weight=balanced, criterion=gini, max_depth=9, max_features=auto, n_estimators=200, random_state=42;, score=0.759 total time=   0.2s\n",
      "[CV 1/5] END class_weight=balanced, criterion=gini, max_depth=9, max_features=auto, n_estimators=300, random_state=42;, score=0.762 total time=   0.3s\n",
      "[CV 2/5] END class_weight=balanced, criterion=gini, max_depth=9, max_features=auto, n_estimators=300, random_state=42;, score=0.762 total time=   0.3s\n",
      "[CV 3/5] END class_weight=balanced, criterion=gini, max_depth=9, max_features=auto, n_estimators=300, random_state=42;, score=0.759 total time=   0.3s\n",
      "[CV 4/5] END class_weight=balanced, criterion=gini, max_depth=9, max_features=auto, n_estimators=300, random_state=42;, score=0.759 total time=   0.3s\n",
      "[CV 5/5] END class_weight=balanced, criterion=gini, max_depth=9, max_features=auto, n_estimators=300, random_state=42;, score=0.772 total time=   0.3s\n",
      "[CV 1/5] END class_weight=balanced, criterion=gini, max_depth=9, max_features=sqrt, n_estimators=100, random_state=42;, score=0.762 total time=   0.1s\n",
      "[CV 2/5] END class_weight=balanced, criterion=gini, max_depth=9, max_features=sqrt, n_estimators=100, random_state=42;, score=0.762 total time=   0.1s\n",
      "[CV 3/5] END class_weight=balanced, criterion=gini, max_depth=9, max_features=sqrt, n_estimators=100, random_state=42;, score=0.747 total time=   0.0s\n",
      "[CV 4/5] END class_weight=balanced, criterion=gini, max_depth=9, max_features=sqrt, n_estimators=100, random_state=42;, score=0.747 total time=   0.0s\n",
      "[CV 5/5] END class_weight=balanced, criterion=gini, max_depth=9, max_features=sqrt, n_estimators=100, random_state=42;, score=0.734 total time=   0.0s\n",
      "[CV 1/5] END class_weight=balanced, criterion=gini, max_depth=9, max_features=sqrt, n_estimators=200, random_state=42;, score=0.762 total time=   0.2s\n",
      "[CV 2/5] END class_weight=balanced, criterion=gini, max_depth=9, max_features=sqrt, n_estimators=200, random_state=42;, score=0.762 total time=   0.2s\n",
      "[CV 3/5] END class_weight=balanced, criterion=gini, max_depth=9, max_features=sqrt, n_estimators=200, random_state=42;, score=0.759 total time=   0.2s\n",
      "[CV 4/5] END class_weight=balanced, criterion=gini, max_depth=9, max_features=sqrt, n_estimators=200, random_state=42;, score=0.759 total time=   0.2s\n",
      "[CV 5/5] END class_weight=balanced, criterion=gini, max_depth=9, max_features=sqrt, n_estimators=200, random_state=42;, score=0.759 total time=   0.2s\n",
      "[CV 1/5] END class_weight=balanced, criterion=gini, max_depth=9, max_features=sqrt, n_estimators=300, random_state=42;, score=0.762 total time=   0.4s\n",
      "[CV 2/5] END class_weight=balanced, criterion=gini, max_depth=9, max_features=sqrt, n_estimators=300, random_state=42;, score=0.762 total time=   0.3s\n",
      "[CV 3/5] END class_weight=balanced, criterion=gini, max_depth=9, max_features=sqrt, n_estimators=300, random_state=42;, score=0.759 total time=   0.4s\n",
      "[CV 4/5] END class_weight=balanced, criterion=gini, max_depth=9, max_features=sqrt, n_estimators=300, random_state=42;, score=0.759 total time=   0.3s\n",
      "[CV 5/5] END class_weight=balanced, criterion=gini, max_depth=9, max_features=sqrt, n_estimators=300, random_state=42;, score=0.772 total time=   0.3s\n",
      "[CV 1/5] END class_weight=balanced, criterion=gini, max_depth=9, max_features=log2, n_estimators=100, random_state=42;, score=0.750 total time=   0.0s\n",
      "[CV 2/5] END class_weight=balanced, criterion=gini, max_depth=9, max_features=log2, n_estimators=100, random_state=42;, score=0.750 total time=   0.0s\n",
      "[CV 3/5] END class_weight=balanced, criterion=gini, max_depth=9, max_features=log2, n_estimators=100, random_state=42;, score=0.747 total time=   0.0s\n",
      "[CV 4/5] END class_weight=balanced, criterion=gini, max_depth=9, max_features=log2, n_estimators=100, random_state=42;, score=0.772 total time=   0.0s\n",
      "[CV 5/5] END class_weight=balanced, criterion=gini, max_depth=9, max_features=log2, n_estimators=100, random_state=42;, score=0.734 total time=   0.1s\n",
      "[CV 1/5] END class_weight=balanced, criterion=gini, max_depth=9, max_features=log2, n_estimators=200, random_state=42;, score=0.750 total time=   0.2s\n",
      "[CV 2/5] END class_weight=balanced, criterion=gini, max_depth=9, max_features=log2, n_estimators=200, random_state=42;, score=0.750 total time=   0.2s\n",
      "[CV 3/5] END class_weight=balanced, criterion=gini, max_depth=9, max_features=log2, n_estimators=200, random_state=42;, score=0.734 total time=   0.2s\n",
      "[CV 4/5] END class_weight=balanced, criterion=gini, max_depth=9, max_features=log2, n_estimators=200, random_state=42;, score=0.759 total time=   0.1s\n",
      "[CV 5/5] END class_weight=balanced, criterion=gini, max_depth=9, max_features=log2, n_estimators=200, random_state=42;, score=0.747 total time=   0.2s\n",
      "[CV 1/5] END class_weight=balanced, criterion=gini, max_depth=9, max_features=log2, n_estimators=300, random_state=42;, score=0.750 total time=   0.3s\n",
      "[CV 2/5] END class_weight=balanced, criterion=gini, max_depth=9, max_features=log2, n_estimators=300, random_state=42;, score=0.762 total time=   0.3s\n",
      "[CV 3/5] END class_weight=balanced, criterion=gini, max_depth=9, max_features=log2, n_estimators=300, random_state=42;, score=0.747 total time=   0.3s\n",
      "[CV 4/5] END class_weight=balanced, criterion=gini, max_depth=9, max_features=log2, n_estimators=300, random_state=42;, score=0.772 total time=   0.3s\n",
      "[CV 5/5] END class_weight=balanced, criterion=gini, max_depth=9, max_features=log2, n_estimators=300, random_state=42;, score=0.759 total time=   0.3s\n",
      "[CV 1/5] END class_weight=balanced, criterion=entropy, max_depth=3, max_features=auto, n_estimators=100, random_state=42;, score=0.700 total time=   0.1s\n",
      "[CV 2/5] END class_weight=balanced, criterion=entropy, max_depth=3, max_features=auto, n_estimators=100, random_state=42;, score=0.675 total time=   0.1s\n",
      "[CV 3/5] END class_weight=balanced, criterion=entropy, max_depth=3, max_features=auto, n_estimators=100, random_state=42;, score=0.633 total time=   0.0s\n",
      "[CV 4/5] END class_weight=balanced, criterion=entropy, max_depth=3, max_features=auto, n_estimators=100, random_state=42;, score=0.646 total time=   0.0s\n",
      "[CV 5/5] END class_weight=balanced, criterion=entropy, max_depth=3, max_features=auto, n_estimators=100, random_state=42;, score=0.582 total time=   0.0s\n",
      "[CV 1/5] END class_weight=balanced, criterion=entropy, max_depth=3, max_features=auto, n_estimators=200, random_state=42;, score=0.713 total time=   0.2s\n",
      "[CV 2/5] END class_weight=balanced, criterion=entropy, max_depth=3, max_features=auto, n_estimators=200, random_state=42;, score=0.675 total time=   0.2s\n",
      "[CV 3/5] END class_weight=balanced, criterion=entropy, max_depth=3, max_features=auto, n_estimators=200, random_state=42;, score=0.620 total time=   0.2s\n",
      "[CV 4/5] END class_weight=balanced, criterion=entropy, max_depth=3, max_features=auto, n_estimators=200, random_state=42;, score=0.646 total time=   0.2s\n",
      "[CV 5/5] END class_weight=balanced, criterion=entropy, max_depth=3, max_features=auto, n_estimators=200, random_state=42;, score=0.595 total time=   0.2s\n",
      "[CV 1/5] END class_weight=balanced, criterion=entropy, max_depth=3, max_features=auto, n_estimators=300, random_state=42;, score=0.725 total time=   0.4s\n",
      "[CV 2/5] END class_weight=balanced, criterion=entropy, max_depth=3, max_features=auto, n_estimators=300, random_state=42;, score=0.688 total time=   0.4s\n",
      "[CV 3/5] END class_weight=balanced, criterion=entropy, max_depth=3, max_features=auto, n_estimators=300, random_state=42;, score=0.620 total time=   0.3s\n",
      "[CV 4/5] END class_weight=balanced, criterion=entropy, max_depth=3, max_features=auto, n_estimators=300, random_state=42;, score=0.646 total time=   0.3s\n",
      "[CV 5/5] END class_weight=balanced, criterion=entropy, max_depth=3, max_features=auto, n_estimators=300, random_state=42;, score=0.582 total time=   0.3s\n",
      "[CV 1/5] END class_weight=balanced, criterion=entropy, max_depth=3, max_features=sqrt, n_estimators=100, random_state=42;, score=0.700 total time=   0.1s\n",
      "[CV 2/5] END class_weight=balanced, criterion=entropy, max_depth=3, max_features=sqrt, n_estimators=100, random_state=42;, score=0.675 total time=   0.0s\n",
      "[CV 3/5] END class_weight=balanced, criterion=entropy, max_depth=3, max_features=sqrt, n_estimators=100, random_state=42;, score=0.633 total time=   0.0s\n",
      "[CV 4/5] END class_weight=balanced, criterion=entropy, max_depth=3, max_features=sqrt, n_estimators=100, random_state=42;, score=0.646 total time=   0.0s\n",
      "[CV 5/5] END class_weight=balanced, criterion=entropy, max_depth=3, max_features=sqrt, n_estimators=100, random_state=42;, score=0.582 total time=   0.1s\n",
      "[CV 1/5] END class_weight=balanced, criterion=entropy, max_depth=3, max_features=sqrt, n_estimators=200, random_state=42;, score=0.713 total time=   0.2s\n",
      "[CV 2/5] END class_weight=balanced, criterion=entropy, max_depth=3, max_features=sqrt, n_estimators=200, random_state=42;, score=0.675 total time=   0.2s\n",
      "[CV 3/5] END class_weight=balanced, criterion=entropy, max_depth=3, max_features=sqrt, n_estimators=200, random_state=42;, score=0.620 total time=   0.2s\n",
      "[CV 4/5] END class_weight=balanced, criterion=entropy, max_depth=3, max_features=sqrt, n_estimators=200, random_state=42;, score=0.646 total time=   0.2s\n",
      "[CV 5/5] END class_weight=balanced, criterion=entropy, max_depth=3, max_features=sqrt, n_estimators=200, random_state=42;, score=0.595 total time=   0.3s\n",
      "[CV 1/5] END class_weight=balanced, criterion=entropy, max_depth=3, max_features=sqrt, n_estimators=300, random_state=42;, score=0.725 total time=   0.3s\n",
      "[CV 2/5] END class_weight=balanced, criterion=entropy, max_depth=3, max_features=sqrt, n_estimators=300, random_state=42;, score=0.688 total time=   0.3s\n",
      "[CV 3/5] END class_weight=balanced, criterion=entropy, max_depth=3, max_features=sqrt, n_estimators=300, random_state=42;, score=0.620 total time=   0.3s\n",
      "[CV 4/5] END class_weight=balanced, criterion=entropy, max_depth=3, max_features=sqrt, n_estimators=300, random_state=42;, score=0.646 total time=   0.3s\n",
      "[CV 5/5] END class_weight=balanced, criterion=entropy, max_depth=3, max_features=sqrt, n_estimators=300, random_state=42;, score=0.582 total time=   0.3s\n",
      "[CV 1/5] END class_weight=balanced, criterion=entropy, max_depth=3, max_features=log2, n_estimators=100, random_state=42;, score=0.713 total time=   0.0s\n",
      "[CV 2/5] END class_weight=balanced, criterion=entropy, max_depth=3, max_features=log2, n_estimators=100, random_state=42;, score=0.725 total time=   0.0s\n",
      "[CV 3/5] END class_weight=balanced, criterion=entropy, max_depth=3, max_features=log2, n_estimators=100, random_state=42;, score=0.608 total time=   0.0s\n",
      "[CV 4/5] END class_weight=balanced, criterion=entropy, max_depth=3, max_features=log2, n_estimators=100, random_state=42;, score=0.671 total time=   0.0s\n",
      "[CV 5/5] END class_weight=balanced, criterion=entropy, max_depth=3, max_features=log2, n_estimators=100, random_state=42;, score=0.570 total time=   0.0s\n",
      "[CV 1/5] END class_weight=balanced, criterion=entropy, max_depth=3, max_features=log2, n_estimators=200, random_state=42;, score=0.725 total time=   0.1s\n",
      "[CV 2/5] END class_weight=balanced, criterion=entropy, max_depth=3, max_features=log2, n_estimators=200, random_state=42;, score=0.725 total time=   0.2s\n",
      "[CV 3/5] END class_weight=balanced, criterion=entropy, max_depth=3, max_features=log2, n_estimators=200, random_state=42;, score=0.595 total time=   0.1s\n",
      "[CV 4/5] END class_weight=balanced, criterion=entropy, max_depth=3, max_features=log2, n_estimators=200, random_state=42;, score=0.633 total time=   0.1s\n",
      "[CV 5/5] END class_weight=balanced, criterion=entropy, max_depth=3, max_features=log2, n_estimators=200, random_state=42;, score=0.557 total time=   0.1s\n",
      "[CV 1/5] END class_weight=balanced, criterion=entropy, max_depth=3, max_features=log2, n_estimators=300, random_state=42;, score=0.725 total time=   0.2s\n",
      "[CV 2/5] END class_weight=balanced, criterion=entropy, max_depth=3, max_features=log2, n_estimators=300, random_state=42;, score=0.725 total time=   0.2s\n",
      "[CV 3/5] END class_weight=balanced, criterion=entropy, max_depth=3, max_features=log2, n_estimators=300, random_state=42;, score=0.620 total time=   0.2s\n",
      "[CV 4/5] END class_weight=balanced, criterion=entropy, max_depth=3, max_features=log2, n_estimators=300, random_state=42;, score=0.633 total time=   0.2s\n",
      "[CV 5/5] END class_weight=balanced, criterion=entropy, max_depth=3, max_features=log2, n_estimators=300, random_state=42;, score=0.557 total time=   0.3s\n",
      "[CV 1/5] END class_weight=balanced, criterion=entropy, max_depth=5, max_features=auto, n_estimators=100, random_state=42;, score=0.787 total time=   0.1s\n",
      "[CV 2/5] END class_weight=balanced, criterion=entropy, max_depth=5, max_features=auto, n_estimators=100, random_state=42;, score=0.713 total time=   0.1s\n",
      "[CV 3/5] END class_weight=balanced, criterion=entropy, max_depth=5, max_features=auto, n_estimators=100, random_state=42;, score=0.709 total time=   0.1s\n",
      "[CV 4/5] END class_weight=balanced, criterion=entropy, max_depth=5, max_features=auto, n_estimators=100, random_state=42;, score=0.747 total time=   0.2s\n",
      "[CV 5/5] END class_weight=balanced, criterion=entropy, max_depth=5, max_features=auto, n_estimators=100, random_state=42;, score=0.684 total time=   0.1s\n",
      "[CV 1/5] END class_weight=balanced, criterion=entropy, max_depth=5, max_features=auto, n_estimators=200, random_state=42;, score=0.762 total time=   0.3s\n",
      "[CV 2/5] END class_weight=balanced, criterion=entropy, max_depth=5, max_features=auto, n_estimators=200, random_state=42;, score=0.738 total time=   0.3s\n",
      "[CV 3/5] END class_weight=balanced, criterion=entropy, max_depth=5, max_features=auto, n_estimators=200, random_state=42;, score=0.684 total time=   0.3s\n",
      "[CV 4/5] END class_weight=balanced, criterion=entropy, max_depth=5, max_features=auto, n_estimators=200, random_state=42;, score=0.734 total time=   0.3s\n"
     ]
    }
   ],
   "source": [
    "from sklearn.model_selection import GridSearchCV\n",
    "\n",
    "rf_pre = RandomForestClassifier()\n",
    "\n",
    "# The parameter range for hyperparameter tuning\n",
    "param_grid = { \n",
    "    'random_state': [42],\n",
    "    'class_weight': ['balanced'],\n",
    "    'n_estimators': np.arange(100,400,100).tolist(),\n",
    "    'max_features': ['auto', 'sqrt', 'log2'],\n",
    "    'max_depth' : [3,5,7,9],\n",
    "    'criterion' :['gini', 'entropy']\n",
    "}      \n",
    "                           \n",
    "CV_rfc = GridSearchCV(estimator=rf_pre, param_grid=param_grid, cv= 5, verbose=3)\n",
    "CV_rfc.fit(X_image, classification_target)\n",
    "\n",
    "print(CV_rfc.best_params_)"
   ]
  },
  {
   "cell_type": "markdown",
   "id": "4e46f50c-0205-4197-93b2-602950976690",
   "metadata": {},
   "source": [
    "#### 2. Initialise the RandomForestClassifier using the tunned hyperparameter"
   ]
  },
  {
   "cell_type": "code",
   "execution_count": null,
   "id": "967ba54d-e3e5-4cb3-87f5-7bacd2ec254d",
   "metadata": {},
   "outputs": [],
   "source": [
    "# Best parameter: {'class_weight': 'balanced', 'criterion': 'gini', 'max_depth': 9, 'max_features': 'auto', 'n_estimators': 300, 'random_state': 42}\n",
    "rf = RandomForestClassifier(**CV_rfc.best_params_)\n",
    "rf.fit(X_image, classification_target)"
   ]
  },
  {
   "cell_type": "markdown",
   "id": "52b17ad8-3f78-464a-a83d-50ef204dd205",
   "metadata": {},
   "source": [
    "#### 3. Construct the N-Best image-based feature from RF feature selection"
   ]
  },
  {
   "cell_type": "code",
   "execution_count": null,
   "id": "1a6eae27-de4b-4289-9ed3-604cfa65f998",
   "metadata": {},
   "outputs": [],
   "source": [
    "# Sort the features\n",
    "sorted_idx = rf.feature_importances_.argsort()\n",
    "# Choose th top K-number of features\n",
    "num_select_features = 10\n",
    "sorted_idx = sorted_idx[:num_select_features]\n",
    "\n",
    "# Display the plot\n",
    "plt.barh(X_image.columns[sorted_idx], rf.feature_importances_[sorted_idx])\n",
    "plt.xlabel(\"Random Forest Feature Importance\")"
   ]
  },
  {
   "cell_type": "code",
   "execution_count": null,
   "id": "ef531a8e-7583-40d1-bf6d-2ce1e6abb63e",
   "metadata": {},
   "outputs": [],
   "source": [
    "# Assigned the selected feature\n",
    "Xn_image = X_image.iloc[:, sorted_idx]\n",
    "print(Xn_image.columns)"
   ]
  },
  {
   "cell_type": "markdown",
   "id": "c864fea3-0a0b-41fd-9513-c5a38a16c42f",
   "metadata": {},
   "source": [
    "#### 4. Concatenate the clinical and image-based features into a Dataframe"
   ]
  },
  {
   "cell_type": "code",
   "execution_count": null,
   "id": "18f4fd71-ab3f-4ec8-a562-098c4b382148",
   "metadata": {},
   "outputs": [],
   "source": [
    "Xn = pd.concat([Xn_clinical, Xn_image], axis=1, join='inner')\n",
    "print(Xn.columns)"
   ]
  },
  {
   "cell_type": "markdown",
   "id": "4d504ea7-87ac-4a01-8f17-d61764b4eed4",
   "metadata": {},
   "source": [
    "#### 5. Divide the concatenated data into training and test sets"
   ]
  },
  {
   "cell_type": "code",
   "execution_count": null,
   "id": "ed23ee2b-ecc1-418c-af5c-9a3218698fde",
   "metadata": {},
   "outputs": [],
   "source": [
    "X_train, X_test, y_train, y_test = train_test_split(Xn, \n",
    "                                                    classification_target,\n",
    "                                                    stratify=classification_target,\n",
    "                                                    test_size=0.3, \n",
    "                                                    random_state=42)\n"
   ]
  },
  {
   "cell_type": "markdown",
   "id": "11de456b-f0a1-46d7-be61-1856c02cdcab",
   "metadata": {},
   "source": [
    "#### 6. Data Normalisation using StandardScaler()"
   ]
  },
  {
   "cell_type": "code",
   "execution_count": null,
   "id": "cf4d3d0c-7d17-4750-813b-e1acbdf29d45",
   "metadata": {},
   "outputs": [],
   "source": [
    "scaler = StandardScaler()\n",
    "Xs_train = scaler.fit_transform(X_train)\n",
    "Xs_test = scaler.fit_transform(X_test)"
   ]
  },
  {
   "cell_type": "markdown",
   "id": "c57722df-e8ac-445b-af3b-899a952b6080",
   "metadata": {},
   "source": [
    "___\n",
    "## <ins>Predictive model building</ins>"
   ]
  },
  {
   "cell_type": "markdown",
   "id": "f365ba9d-44cb-4127-8427-27adba0539f1",
   "metadata": {},
   "source": [
    "#### 1. Predictive models hyperparameter tuning"
   ]
  },
  {
   "cell_type": "code",
   "execution_count": null,
   "id": "69436302-a3d9-4944-857c-b168938b8846",
   "metadata": {},
   "outputs": [],
   "source": [
    "# Random Forest Classification model initialisation\n",
    "rf_clf = RandomForestClassifier(random_state=42)\n",
    "\n",
    "# Random Forest Classification model's parameter grid\n",
    "f_rf_search = GridSearchCV(rf_clf,\n",
    "                            param_grid={'random_state': [42],\n",
    "                                        'n_estimators': np.arange(90,200,15).tolist(),\n",
    "                                        'max_features': ['auto', 'sqrt', 'log2'],\n",
    "                                        'max_depth' : [3,5,7,9],\n",
    "                                        'criterion' :['gini'],\n",
    "                                        'class_weight': ['balanced']},\n",
    "                            scoring='accuracy',\n",
    "                           verbose=3)\n",
    "\n",
    "# --------------------------------------------------------------------------\n",
    "# Support Vector Classifier model initialisation\n",
    "rf_svc = SVC(random_state=42)\n",
    "\n",
    "# Support Vector Classifier model's parameter grid\n",
    "f_svc_search = GridSearchCV(rf_svc,\n",
    "                            param_grid={'random_state': [42],\n",
    "                                        'probability': [True],\n",
    "                                        'C': [0.1,1, 10, 100], \n",
    "                                        'gamma': [1,0.1,0.01,0.001],\n",
    "                                        'kernel': ['rbf', 'poly', 'sigmoid'],\n",
    "                                        'class_weight': ['balanced']},\n",
    "                            scoring='accuracy',\n",
    "                           verbose=3)\n",
    "\n",
    "# --------------------------------------------------------------------------\n",
    "# Logistic Regression model initialisation\n",
    "rf_lr = LogisticRegression(random_state=42)\n",
    "\n",
    "# Logistic Regression model's parameter grid\n",
    "f_lr_search = GridSearchCV(rf_lr,\n",
    "                            param_grid={'random_state': [42],\n",
    "                                        'C': [0.1,1, 10, 100], \n",
    "                                        'penalty': ['none', 'l1', 'l2', 'elasticnet'],\n",
    "                                        'solver': ['newton-cg', 'lbfgs', 'liblinear'],\n",
    "                                        'class_weight': ['balanced']},\n",
    "                            scoring='accuracy',\n",
    "                           verbose=3)"
   ]
  },
  {
   "cell_type": "code",
   "execution_count": null,
   "id": "39bc2ae0-31a9-48e1-bf02-bc4f20b9ddf3",
   "metadata": {
    "scrolled": true,
    "tags": []
   },
   "outputs": [],
   "source": [
    "# Run fit with all sets of parameters\n",
    "# Random Forest Classifier\n",
    "f_rf_search.fit(Xs_train, y_train)\n",
    "\n",
    "# SVC\n",
    "f_svc_search.fit(Xs_train, y_train)\n",
    "\n",
    "# Logistic Regression\n",
    "f_lr_search.fit(Xs_train, y_train)"
   ]
  },
  {
   "cell_type": "markdown",
   "id": "19f6fe46-9601-4748-88c2-bb196b5dc9af",
   "metadata": {},
   "source": [
    "#### 2. Best parameters and Accuracy of the Predictive models"
   ]
  },
  {
   "cell_type": "code",
   "execution_count": null,
   "id": "57c46029-03b2-429e-a0d4-a3ce2050d4aa",
   "metadata": {},
   "outputs": [],
   "source": [
    "print(\"Best parameter for Random Forest Classification \", f_rf_search.best_params_)\n",
    "print(\"Accuracy: \", f_rf_search.best_score_, \"\\n\")\n",
    "\n",
    "print(\"Best parameter for SVC \", f_svc_search.best_params_)\n",
    "print(\"Accuracy: \", f_svc_search.best_score_, \"\\n\")\n",
    "\n",
    "print(\"Best parameter for Logistic Regression \", f_lr_search.best_params_)\n",
    "print(\"Accuracy: \", f_lr_search.best_score_, \"\\n\")"
   ]
  },
  {
   "cell_type": "markdown",
   "id": "d6b48666-6dbd-4468-876a-5ec22b7a9cd1",
   "metadata": {},
   "source": [
    "---\n",
    "## <ins>Evaluation Results</ins>"
   ]
  },
  {
   "cell_type": "markdown",
   "id": "34b540d8-5019-423c-b788-b34c34fc1536",
   "metadata": {},
   "source": [
    "#### 1. Plot confusion Matrix (Random Forest Classifier, SVC, Logistic Regression)"
   ]
  },
  {
   "cell_type": "code",
   "execution_count": null,
   "id": "b5176ab4-7c35-40d5-b3f4-e05a83e739b4",
   "metadata": {},
   "outputs": [],
   "source": [
    "# Figure size settings\n",
    "plt.rcParams.update({'figure.figsize': (5.0, 5.0)})\n",
    "plt.rcParams.update({'font.size': 10})"
   ]
  },
  {
   "cell_type": "code",
   "execution_count": null,
   "id": "b07abc85-5985-428e-93aa-b30a4b767e7a",
   "metadata": {},
   "outputs": [],
   "source": [
    "# Fit Random Forest Classification with the best parameter \n",
    "rf= RandomForestClassifier(**f_rf_search.best_params_)\n",
    "\n",
    "rf.fit(Xs_train, y_train)\n",
    "print(f\"Random Forest Classification Training accuracy: {accuracy_score(y_train, rf.predict(Xs_train))}\")\n",
    "y_pred =rf.predict(Xs_test)\n",
    "cm = confusion_matrix(y_test, y_pred)\n",
    "\n",
    "# Plot confusion matrix\n",
    "fig, ax = plt.subplots(figsize=(5, 5))\n",
    "ax.matshow(cm, cmap=plt.cm.Blues, alpha=0.3)\n",
    "\n",
    "for i in range(cm.shape[0]):\n",
    "    for j in range(cm.shape[1]):\n",
    "        ax.text(x=j, y=i,\n",
    "        s=cm[i, j],\n",
    "        va='center', ha='center')\n",
    "\n",
    "classes=[\"Failed to achieve pCR\",\"Achieve pCR\"]\n",
    "tick_marks = np.arange(len(classes))\n",
    "plt.xticks(tick_marks, classes, rotation=45)\n",
    "plt.yticks(tick_marks, classes)\n",
    "plt.xlabel('Predicted Values')\n",
    "plt.ylabel('Actual Values')\n",
    "\n",
    "print(classification_report(y_test, y_pred))"
   ]
  },
  {
   "cell_type": "code",
   "execution_count": null,
   "id": "4a548a06-6926-4e73-b4d6-f0a73a81c1c9",
   "metadata": {},
   "outputs": [],
   "source": [
    "# Fit SVC with the best parameter \n",
    "svc = SVC(**f_svc_search.best_params_)\n",
    "\n",
    "svc.fit(Xs_train, y_train)\n",
    "print(f\"SVC Training accuracy: {accuracy_score(y_train, svc.predict(Xs_train))}\")\n",
    "y_pred =svc.predict(Xs_test)\n",
    "cm = confusion_matrix(y_test, y_pred)\n",
    "\n",
    "# Plot confusion matrix\n",
    "fig, ax = plt.subplots(figsize=(5, 5))\n",
    "ax.matshow(cm, cmap=plt.cm.Blues, alpha=0.3)\n",
    "\n",
    "for i in range(cm.shape[0]):\n",
    "    for j in range(cm.shape[1]):\n",
    "        ax.text(x=j, y=i,\n",
    "        s=cm[i, j],\n",
    "        va='center', ha='center')\n",
    "\n",
    "classes=[\"Failed to achieve pCR\",\"Achieve pCR\"]\n",
    "tick_marks = np.arange(len(classes))\n",
    "plt.xticks(tick_marks, classes, rotation=45)\n",
    "plt.yticks(tick_marks, classes)\n",
    "plt.xlabel('Predicted Values')\n",
    "plt.ylabel('Actual Values')\n",
    "\n",
    "print(classification_report(y_test, y_pred))"
   ]
  },
  {
   "cell_type": "code",
   "execution_count": null,
   "id": "4d5b860c-8a9c-41f0-99e8-6bc03e514ca6",
   "metadata": {},
   "outputs": [],
   "source": [
    "# Fit Logistic Regression with the best parameter \n",
    "lr = LogisticRegression(**f_lr_search.best_params_)\n",
    "\n",
    "lr.fit(Xs_train, y_train)\n",
    "print(f\"Logistic Regression Training accuracy: {accuracy_score(y_train, lr.predict(Xs_train))}\")\n",
    "y_pred =lr.predict(Xs_test)\n",
    "cm = confusion_matrix(y_test, y_pred)\n",
    "\n",
    "# Plot confusion matrix\n",
    "fig, ax = plt.subplots(figsize=(5, 5))\n",
    "ax.matshow(cm, cmap=plt.cm.Blues, alpha=0.3)\n",
    "\n",
    "for i in range(cm.shape[0]):\n",
    "    for j in range(cm.shape[1]):\n",
    "        ax.text(x=j, y=i,\n",
    "        s=cm[i, j],\n",
    "        va='center', ha='center')\n",
    "\n",
    "classes=[\"Failed to achieve pCR\",\"Achieve pCR\"]\n",
    "tick_marks = np.arange(len(classes))\n",
    "plt.xticks(tick_marks, classes, rotation=45)\n",
    "plt.yticks(tick_marks, classes)\n",
    "plt.xlabel('Predicted Values')\n",
    "plt.ylabel('Actual Values')\n",
    "\n",
    "print(classification_report(y_test, y_pred))"
   ]
  },
  {
   "cell_type": "markdown",
   "id": "4f5ed297-e114-46af-82ca-e3d0062b20da",
   "metadata": {},
   "source": [
    "#### 2. 5-Fold Cross validation (Random Forest, SVC, Logistic Regression)"
   ]
  },
  {
   "cell_type": "code",
   "execution_count": null,
   "id": "8b6b9745-2c42-496f-aae1-331607db8237",
   "metadata": {},
   "outputs": [],
   "source": [
    "models = []\n",
    "models.append((\"Random Forest\", rf))\n",
    "models.append((\"SVC\", svc))\n",
    "models.append((\"lr\", lr))\n",
    "\n",
    "# Test options and evaluation metric\n",
    "num_folds = 5\n",
    "num_instances = len(Xs_train)\n",
    "scoring = \"accuracy\"\n",
    "results = []\n",
    "names = []\n",
    "\n",
    "for name, model in models:\n",
    "    kf = KFold(n_splits=num_folds)\n",
    "    cv_results = cross_val_score(model, Xs_train, y_train, cv=kf, scoring=scoring, n_jobs=-1)\n",
    "    results.append(cv_results)\n",
    "    names.append(name)\n",
    "    \n",
    "print(\"5-Fold cross-validation accuracy score for the training data for all the classifiers\")\n",
    "\n",
    "for name, cv_results in zip(names, results):\n",
    "    print(\"%-15s: %.6f (%.6f)\" % (name, cv_results.mean(), cv_results.std()))"
   ]
  },
  {
   "cell_type": "markdown",
   "id": "a6e24b84-3492-49b6-ad1d-dc5ecb8a00ec",
   "metadata": {},
   "source": [
    "#### 3. Plot ROC (Random Forest, SVC, Logistic Regression)"
   ]
  },
  {
   "cell_type": "code",
   "execution_count": null,
   "id": "6b3f51cc-c3a7-42db-900b-3500736baedf",
   "metadata": {
    "tags": []
   },
   "outputs": [],
   "source": [
    "plt.figure(figsize=(8,6))\n",
    "\n",
    "probas_ = [rf.predict_proba(Xs_test), svc.predict_proba(Xs_test), lr.predict_proba(Xs_test)]\n",
    "\n",
    "# Store the respective classification models and probabilities of possible outcomes of testing set\n",
    "probas_dict = {\n",
    "    'RF': rf.predict_proba(Xs_test),\n",
    "    'SVC': svc.predict_proba(Xs_test),\n",
    "    'LR': lr.predict_proba(Xs_test),\n",
    "}\n",
    "\n",
    "# Plot the ROC curve of RF, SVC & LR\n",
    "for model, probas_ in probas_dict.items():\n",
    "    fpr, tpr, thresholds = roc_curve(y_test, probas_[:, 1])\n",
    "    roc_auc = auc(fpr, tpr)\n",
    "    plt.plot(fpr, tpr, lw=1, label=f'{model} fold (area = %0.2f)' % (roc_auc))\n",
    "    plt.plot([0, 1], [0, 1], '--', color=(0.6, 0.6, 0.6), label='Random')\n",
    "    plt.xlim([-0.05, 1.05])\n",
    "    plt.ylim([-0.05, 1.05])\n",
    "    plt.xlabel('False Positive Rate | 1 - specificity (1 - Failed achieve pathologic complete response)')\n",
    "    plt.ylabel('True Positive Rate | Sensitivity (Achieve pathologic complete response)')\n",
    "    plt.title('Receiver Operating Characteristic')\n",
    "    plt.legend(loc=\"lower right\")\n",
    "    plt.axes().set_aspect(1)"
   ]
  },
  {
   "cell_type": "markdown",
   "id": "d21432bc-36bf-4bc0-b923-771ed8b0f03a",
   "metadata": {},
   "source": [
    "---\n",
    "## <ins>Final Model building using the entire dataset</ins>"
   ]
  },
  {
   "cell_type": "code",
   "execution_count": null,
   "id": "4ec03c00-f108-40ad-873c-e744c1c8d7df",
   "metadata": {},
   "outputs": [],
   "source": [
    "# Initialise Random forest classifier with the best parameter\n",
    "rf_model = RandomForestClassifier(**f_rf_search.best_params_)\n",
    "\n",
    "# Normalise data\n",
    "Xns = scaler.fit_transform(Xn)\n",
    "\n",
    "# Train Random forest classifier with the entire dataset\n",
    "rf_model.fit(Xns, classification_target)"
   ]
  },
  {
   "cell_type": "markdown",
   "id": "66553aee-e15d-4856-a2be-4452cbe594f3",
   "metadata": {},
   "source": [
    "#### Save the Random Forest Classifier model using pickle"
   ]
  },
  {
   "cell_type": "code",
   "execution_count": null,
   "id": "600bb585-2b58-4241-b7e2-78605e4b0ef4",
   "metadata": {},
   "outputs": [],
   "source": [
    "# Dump and save the Random Forest Classifier model\n",
    "with open(\"RandomForestClassifier.pickle\", \"wb\") as f:\n",
    "    pickle.dump(rf_model, f)"
   ]
  }
 ],
 "metadata": {
  "kernelspec": {
   "display_name": "Python 3 (ipykernel)",
   "language": "python",
   "name": "python3"
  },
  "language_info": {
   "codemirror_mode": {
    "name": "ipython",
    "version": 3
   },
   "file_extension": ".py",
   "mimetype": "text/x-python",
   "name": "python",
   "nbconvert_exporter": "python",
   "pygments_lexer": "ipython3",
   "version": "3.7.13"
  }
 },
 "nbformat": 4,
 "nbformat_minor": 5
}
