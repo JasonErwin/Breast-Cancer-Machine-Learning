{
 "cells": [
  {
   "cell_type": "code",
   "execution_count": 1,
   "id": "f42900b1-5b97-41e5-8b81-5d0a6346e0cf",
   "metadata": {},
   "outputs": [],
   "source": [
    "import matplotlib.pyplot as plt\n",
    "import pandas as pd\n",
    "import numpy as np\n",
    "import seaborn as sns"
   ]
  },
  {
   "cell_type": "code",
   "execution_count": 2,
   "id": "743326f9-5d52-45fa-84cd-0e84230a59dc",
   "metadata": {},
   "outputs": [],
   "source": [
    "# Load the dataset\n",
    "all_df = pd.read_excel('trainDataset.xls')\n",
    "\n",
    "# Drop the ID Column\n",
    "all_df.drop('ID', axis=1, inplace=True)"
   ]
  },
  {
   "cell_type": "markdown",
   "id": "7e34450f-b230-4bbe-b4a6-d5b6f6940d2a",
   "metadata": {},
   "source": [
    "---\n",
    "## 1. Dealing with Missing Value"
   ]
  },
  {
   "cell_type": "markdown",
   "id": "1fe068a1-898d-4798-a83a-6293723ea299",
   "metadata": {},
   "source": [
    "#### Calculate the number of cell containing missing value"
   ]
  },
  {
   "cell_type": "code",
   "execution_count": 3,
   "id": "af633483-6d54-4f13-834e-96cd860bb3c6",
   "metadata": {},
   "outputs": [
    {
     "name": "stdout",
     "output_type": "stream",
     "text": [
      "Number of total missing value: 17\n"
     ]
    }
   ],
   "source": [
    "# Check the distribution of pCR (outcome)\n",
    "total_missing_cell = 0\n",
    "\n",
    "for (index, column) in enumerate(all_df):\n",
    "    total_missing_cell += len(all_df.loc[(all_df[column] == 999)])\n",
    "    \n",
    "print(f\"Number of total missing value: {total_missing_cell}\")"
   ]
  },
  {
   "cell_type": "markdown",
   "id": "aeee3eb7-2c0a-4762-8802-a6d98c69af4a",
   "metadata": {},
   "source": [
    "#### Construct an array to keep track of the missing value's location"
   ]
  },
  {
   "cell_type": "code",
   "execution_count": 4,
   "id": "52776eb7-cd40-469d-bc76-4bc8cf365f45",
   "metadata": {},
   "outputs": [],
   "source": [
    "missing_data = [all_df.index[all_df[column] == 999].tolist() for index, column in enumerate(all_df)]"
   ]
  },
  {
   "cell_type": "markdown",
   "id": "8f44cc60-3d3a-4300-8a5f-ae96f97e7cff",
   "metadata": {},
   "source": [
    "### 1.1 KNN Imputation\n",
    "Imputation for completing missing values using k-Nearest Neighbors. Each sample’s missing values are imputed using the mean value from `n_neighbors` nearest neighbors found in the training set. Two samples are close if the features that neither is missing are close.\n",
    "<br><br>\n",
    "Reference: https://scikit-learn.org/stable/modules/generated/sklearn.impute.KNNImputer.html?highlight=impute"
   ]
  },
  {
   "cell_type": "code",
   "execution_count": 5,
   "id": "0cb994fa-a8f7-4c25-a835-6a50fe06a7bb",
   "metadata": {},
   "outputs": [],
   "source": [
    "from sklearn.impute import KNNImputer\n",
    "\n",
    "KNN_imputer = KNNImputer(n_neighbors=5, missing_values = 999)\n",
    "KNN_df = KNN_imputer.fit_transform(all_df)"
   ]
  },
  {
   "cell_type": "code",
   "execution_count": 6,
   "id": "5f15d39d-41d9-4060-9d8e-61e0d8f57ff2",
   "metadata": {
    "scrolled": true,
    "tags": []
   },
   "outputs": [
    {
     "name": "stdout",
     "output_type": "stream",
     "text": [
      "0.0\n",
      "0.0\n",
      "0.0\n",
      "0.0\n",
      "1.0\n",
      "0.0\n",
      "0.0\n",
      "1.0\n",
      "2.0\n",
      "2.0\n",
      "3.0\n",
      "2.0\n",
      "1.0\n",
      "1.0\n",
      "1.0\n",
      "1.0\n",
      "1.0\n"
     ]
    }
   ],
   "source": [
    "# Round the imputed value to its closest category\n",
    "for row_index, row in enumerate(missing_data):\n",
    "    for col_index, item in enumerate(row):\n",
    "        KNN_df[item][row_index] = round(KNN_df[item][row_index])\n",
    "        print(KNN_df[item][row_index])"
   ]
  },
  {
   "cell_type": "markdown",
   "id": "c45a38b8-b6b7-453d-a283-4e6034ff615d",
   "metadata": {},
   "source": [
    "### 1.2 Multivariate imputer (Iterative imputer)\n",
    "Multivariate imputer that estimates each feature from all the others. A strategy for imputing missing values by modeling each feature with missing values as a function of other features in a round-robin fashion.\n",
    "<br> <br>\n",
    "Reference: https://scikit-learn.org/stable/modules/generated/sklearn.impute.IterativeImputer.html?highlight=impute#sklearn.impute.IterativeImputer"
   ]
  },
  {
   "cell_type": "code",
   "execution_count": 7,
   "id": "ac92f449-6190-4569-85b9-841919b65db9",
   "metadata": {},
   "outputs": [],
   "source": [
    "# explicitly require this experimental feature\n",
    "from sklearn.experimental import enable_iterative_imputer  # noqa\n",
    "# now you can import normally from sklearn.impute\n",
    "from sklearn.impute import IterativeImputer\n",
    "\n",
    "mean_imputer = IterativeImputer(random_state=0, missing_values = 999)\n",
    "mean_imputer.fit(all_df)\n",
    "mean_df = mean_imputer.transform(all_df)"
   ]
  },
  {
   "cell_type": "code",
   "execution_count": 8,
   "id": "cf357885-d24a-4916-abba-579d9fd20ce8",
   "metadata": {
    "scrolled": true,
    "tags": []
   },
   "outputs": [
    {
     "name": "stdout",
     "output_type": "stream",
     "text": [
      "0.0\n",
      "0.0\n",
      "0.0\n",
      "0.0\n",
      "0.0\n",
      "0.0\n",
      "0.0\n",
      "0.0\n",
      "2.0\n",
      "2.0\n",
      "3.0\n",
      "2.0\n",
      "2.0\n",
      "1.0\n",
      "1.0\n",
      "1.0\n",
      "0.0\n"
     ]
    }
   ],
   "source": [
    "# Round the imputed value to its closest category\n",
    "for row_index, row in enumerate(missing_data):\n",
    "    for col_index, item in enumerate(row):\n",
    "        mean_df[item][row_index] = round(mean_df[item][row_index])\n",
    "        print(mean_df[item][row_index])"
   ]
  },
  {
   "cell_type": "code",
   "execution_count": 11,
   "id": "ea22420c-7267-43e4-842f-091493a10ff5",
   "metadata": {},
   "outputs": [],
   "source": [
    "column_headers = list(all_df.columns.values)\n",
    "\n",
    "# Download the newly created dataframe for observation purposes\n",
    "KNN_df = pd.DataFrame(KNN_df)\n",
    "KNN_df.columns = column_headers\n",
    "KNN_df.to_excel('knn_df.xlsx', sheet_name='Sheet 1', index=False)\n",
    "\n",
    "mean_df = pd.DataFrame(mean_df)\n",
    "mean_df.columns = column_headers\n",
    "mean_df.to_excel('mean_df.xlsx', sheet_name='Sheet 1', index=False)"
   ]
  },
  {
   "cell_type": "markdown",
   "id": "216a070e-7e5d-473d-826b-8133e856061e",
   "metadata": {},
   "source": [
    "---\n",
    "## 2. Feature normalisation"
   ]
  },
  {
   "cell_type": "code",
   "execution_count": null,
   "id": "0ab906d3-f044-4fb0-9957-879a22e0abc4",
   "metadata": {},
   "outputs": [],
   "source": []
  }
 ],
 "metadata": {
  "kernelspec": {
   "display_name": "Python 3 (ipykernel)",
   "language": "python",
   "name": "python3"
  },
  "language_info": {
   "codemirror_mode": {
    "name": "ipython",
    "version": 3
   },
   "file_extension": ".py",
   "mimetype": "text/x-python",
   "name": "python",
   "nbconvert_exporter": "python",
   "pygments_lexer": "ipython3",
   "version": "3.7.13"
  }
 },
 "nbformat": 4,
 "nbformat_minor": 5
}
